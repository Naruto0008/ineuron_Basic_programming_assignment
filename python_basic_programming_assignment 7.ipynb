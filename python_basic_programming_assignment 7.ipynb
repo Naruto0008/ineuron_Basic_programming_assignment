{
 "cells": [
  {
   "cell_type": "code",
   "execution_count": null,
   "id": "a178acba",
   "metadata": {},
   "outputs": [],
   "source": [
    "Write a Python Program to find sum of array?\n",
    "Write a Python Program to find largest element in an array?\n",
    "Write a Python Program for array rotation?\n",
    "Write a Python Program to Split the array and add the first part to the end?\n",
    "Write a Python Program to check if given array is Monotonic?\n"
   ]
  },
  {
   "cell_type": "code",
   "execution_count": null,
   "id": "10546766",
   "metadata": {},
   "outputs": [],
   "source": [
    "1.Write a Python Program to find sum of array?"
   ]
  },
  {
   "cell_type": "code",
   "execution_count": 22,
   "id": "8d9379be",
   "metadata": {},
   "outputs": [
    {
     "name": "stdout",
     "output_type": "stream",
     "text": [
      "5\n",
      "1\n",
      "2\n",
      "3\n",
      "4\n",
      "5\n",
      "[1, 2, 3, 4, 5]\n",
      "15\n"
     ]
    }
   ],
   "source": [
    "l=[]\n",
    "x=0\n",
    "n=int(input())\n",
    "for i in range(n):\n",
    "    i=int(input())\n",
    "    l.append(i)\n",
    "    \n",
    "print(l)\n",
    "for i in l:\n",
    "    x=x+i\n",
    "print(x)"
   ]
  },
  {
   "cell_type": "code",
   "execution_count": 19,
   "id": "6dc96324",
   "metadata": {},
   "outputs": [
    {
     "ename": "TypeError",
     "evalue": "'list' object cannot be interpreted as an integer",
     "output_type": "error",
     "traceback": [
      "\u001b[1;31m---------------------------------------------------------------------------\u001b[0m",
      "\u001b[1;31mTypeError\u001b[0m                                 Traceback (most recent call last)",
      "\u001b[1;32m<ipython-input-19-217cace8f485>\u001b[0m in \u001b[0;36m<module>\u001b[1;34m\u001b[0m\n\u001b[1;32m----> 1\u001b[1;33m \u001b[0msum\u001b[0m\u001b[1;33m(\u001b[0m\u001b[1;33m)\u001b[0m\u001b[1;33m\u001b[0m\u001b[1;33m\u001b[0m\u001b[0m\n\u001b[0m",
      "\u001b[1;32m<ipython-input-18-3e103151a8c7>\u001b[0m in \u001b[0;36msum\u001b[1;34m()\u001b[0m\n\u001b[0;32m      7\u001b[0m \u001b[0mprint\u001b[0m\u001b[1;33m(\u001b[0m\u001b[0ml\u001b[0m\u001b[1;33m)\u001b[0m\u001b[1;33m\u001b[0m\u001b[1;33m\u001b[0m\u001b[0m\n\u001b[0;32m      8\u001b[0m \u001b[1;32mdef\u001b[0m \u001b[0msum\u001b[0m\u001b[1;33m(\u001b[0m\u001b[1;33m)\u001b[0m\u001b[1;33m:\u001b[0m\u001b[1;33m\u001b[0m\u001b[1;33m\u001b[0m\u001b[0m\n\u001b[1;32m----> 9\u001b[1;33m     \u001b[1;32mfor\u001b[0m \u001b[0mi\u001b[0m \u001b[1;32min\u001b[0m \u001b[0mrange\u001b[0m\u001b[1;33m(\u001b[0m\u001b[0ml\u001b[0m\u001b[1;33m)\u001b[0m\u001b[1;33m:\u001b[0m\u001b[1;33m\u001b[0m\u001b[1;33m\u001b[0m\u001b[0m\n\u001b[0m\u001b[0;32m     10\u001b[0m           \u001b[0mx\u001b[0m\u001b[1;33m=\u001b[0m\u001b[0mx\u001b[0m\u001b[1;33m+\u001b[0m\u001b[0mi\u001b[0m\u001b[1;33m\u001b[0m\u001b[1;33m\u001b[0m\u001b[0m\n\u001b[0;32m     11\u001b[0m     \u001b[0mprint\u001b[0m\u001b[1;33m(\u001b[0m\u001b[0mx\u001b[0m\u001b[1;33m)\u001b[0m\u001b[1;33m\u001b[0m\u001b[1;33m\u001b[0m\u001b[0m\n",
      "\u001b[1;31mTypeError\u001b[0m: 'list' object cannot be interpreted as an integer"
     ]
    }
   ],
   "source": [
    "sum()"
   ]
  },
  {
   "cell_type": "code",
   "execution_count": null,
   "id": "1bbeb1ed",
   "metadata": {},
   "outputs": [],
   "source": [
    "2.Write a Python Program to find largest element in an array?"
   ]
  },
  {
   "cell_type": "code",
   "execution_count": 1,
   "id": "5a98915b",
   "metadata": {},
   "outputs": [
    {
     "name": "stdout",
     "output_type": "stream",
     "text": [
      "4\n",
      "2\n",
      "33\n",
      "55\n",
      "4\n",
      "55\n",
      "55\n"
     ]
    }
   ],
   "source": [
    "l=[]\n",
    "big=0\n",
    "n=int(input())\n",
    "for i in range(n):\n",
    "    i=int(input())\n",
    "    l.append(i)\n",
    "for i in range(0,len(l)):\n",
    "        if(big>l[i]):\n",
    "            print(big)\n",
    "        else:\n",
    "            big=l[i]\n",
    "print(big)"
   ]
  },
  {
   "cell_type": "code",
   "execution_count": null,
   "id": "ce11b7e8",
   "metadata": {},
   "outputs": [],
   "source": [
    "Write a Python Program for array rotation?"
   ]
  },
  {
   "cell_type": "code",
   "execution_count": 16,
   "id": "4448f9e6",
   "metadata": {},
   "outputs": [
    {
     "name": "stdout",
     "output_type": "stream",
     "text": [
      "[1, 2, 3, 44, 55]\n",
      "55\n",
      "44\n",
      "3\n",
      "2\n",
      "1\n"
     ]
    }
   ],
   "source": [
    "l=[1,2,3,44,55]\n",
    "print(l)\n",
    "xx=len(l)-1\n",
    "for i in range(xx,-1,-1):\n",
    "    print(l[i])\n",
    "\n",
    "    "
   ]
  },
  {
   "cell_type": "code",
   "execution_count": null,
   "id": "f2ca90d3",
   "metadata": {},
   "outputs": [],
   "source": [
    "Write a Python Program to Split the array and add the first part to the end?"
   ]
  },
  {
   "cell_type": "code",
   "execution_count": 24,
   "id": "d418483e",
   "metadata": {},
   "outputs": [
    {
     "name": "stdout",
     "output_type": "stream",
     "text": [
      "Enter the lenth of your list : 5\n",
      "1\n",
      "2\n",
      "3\n",
      "4\n",
      "5\n",
      "The List   [1, 2, 3, 4, 5]\n",
      "Enter the number of elements to split  : 3\n",
      "The split list is : [1, 2, 3]\n",
      "The List after split and add : [4, 5, 1, 2, 3]\n"
     ]
    }
   ],
   "source": [
    "l = int(input(\"Enter the lenth of your list : \"))\n",
    "arr = []\n",
    "rarr=[]\n",
    "for i in range(l):\n",
    "    arr.append(int(input()))\n",
    "print(\"The List  \",arr)\n",
    "\n",
    "noro = int(input(\"Enter the number of elements to split  : \"))\n",
    "if noro > l:\n",
    "    print(\"can not split as elements to split is larger then list lengh\")\n",
    "else:\n",
    "    print(\"The split list is :\",arr[:noro])\n",
    "    rarr[:] = arr[noro:l] + arr[:noro]\n",
    "    print(\"The List after split and add :\", rarr)"
   ]
  },
  {
   "cell_type": "code",
   "execution_count": 41,
   "id": "faccb5d4",
   "metadata": {},
   "outputs": [
    {
     "name": "stdout",
     "output_type": "stream",
     "text": [
      "5\n",
      "1\n",
      "2\n",
      "3\n",
      "4\n",
      "5\n",
      "the list: [1, 2, 3, 4, 5]\n",
      "enter the number of  elements to split3\n",
      "the list that is split is: [1, 2, 3]\n",
      "list after split and add: [4, 5, 1, 2, 3]\n"
     ]
    }
   ],
   "source": [
    "l=[]\n",
    "x=[]\n",
    "n=int(input())\n",
    "for i in range(n):\n",
    "    i=int(input())\n",
    "    l.append(i)\n",
    "print(\"the list:\",l)\n",
    "num=int(input(\"enter the number of  elements to split\"))\n",
    "if num > n :\n",
    "    print(\"number of elements to split are greater than available in list\")\n",
    "else:\n",
    "    print(\"the list that is split is:\",l[:num])\n",
    "    x[:]=l[num:n] + l[:num]\n",
    "    print(\"list after split and add:\",x)"
   ]
  },
  {
   "cell_type": "code",
   "execution_count": 31,
   "id": "7c580482",
   "metadata": {},
   "outputs": [
    {
     "data": {
      "text/plain": [
       "[1, 2, 3, 4, 5]"
      ]
     },
     "execution_count": 31,
     "metadata": {},
     "output_type": "execute_result"
    }
   ],
   "source": [
    "l=[1,2,3,4,5,6,7,8]\n",
    "l[:5]"
   ]
  },
  {
   "cell_type": "code",
   "execution_count": null,
   "id": "f59f2860",
   "metadata": {},
   "outputs": [],
   "source": [
    "Write a Python Program to check if given array is Monotonic?\n"
   ]
  },
  {
   "cell_type": "code",
   "execution_count": 14,
   "id": "6c0fcf62",
   "metadata": {},
   "outputs": [
    {
     "name": "stdout",
     "output_type": "stream",
     "text": [
      "5\n",
      "99\n",
      "102\n",
      "5\n",
      "4\n",
      "3\n",
      "non monotonic\n"
     ]
    }
   ],
   "source": [
    "l=[]\n",
    "x=[]\n",
    "n=int(input())\n",
    "for i in range(n):\n",
    "    l.append(int(input()))\n",
    "if (all(l[i]<=l[i+1] for i in range(n-1)) or all(l[i]>=l[i+1] for i in range(n-1))):\n",
    "            print(\"monotonic\")\n",
    "else:\n",
    "    print(\"non monotonic\")\n",
    "        \n",
    "        "
   ]
  },
  {
   "cell_type": "code",
   "execution_count": null,
   "id": "59d25cf0",
   "metadata": {},
   "outputs": [],
   "source": []
  },
  {
   "cell_type": "code",
   "execution_count": null,
   "id": "a401b22b",
   "metadata": {},
   "outputs": [],
   "source": []
  }
 ],
 "metadata": {
  "kernelspec": {
   "display_name": "Python 3",
   "language": "python",
   "name": "python3"
  },
  "language_info": {
   "codemirror_mode": {
    "name": "ipython",
    "version": 3
   },
   "file_extension": ".py",
   "mimetype": "text/x-python",
   "name": "python",
   "nbconvert_exporter": "python",
   "pygments_lexer": "ipython3",
   "version": "3.8.8"
  }
 },
 "nbformat": 4,
 "nbformat_minor": 5
}
