{
 "cells": [
  {
   "cell_type": "code",
   "execution_count": null,
   "id": "e06dfd9d",
   "metadata": {},
   "outputs": [],
   "source": [
    "Write a Python Program to Check if a Number is Positive, Negative or Zero?\n",
    "Write a Python Program to Check if a Number is Odd or Even?\n",
    "Write a Python Program to Check Leap Year?\n",
    "Write a Python Program to Check Prime Number?\n",
    "Write a Python Program to Print all Prime Numbers in an Interval of 1-10000?\n"
   ]
  },
  {
   "cell_type": "code",
   "execution_count": null,
   "id": "9cac2df0",
   "metadata": {},
   "outputs": [],
   "source": [
    "1.Write a Python Program to Check if a Number is Positive, Negative or Zero?"
   ]
  },
  {
   "cell_type": "code",
   "execution_count": 1,
   "id": "ce46794e",
   "metadata": {},
   "outputs": [],
   "source": [
    "def check(a):\n",
    "    if(a>0):\n",
    "        print(\"positive\")\n",
    "    elif(a<0):\n",
    "        print(\"Negative\")\n",
    "    elif(a==0):\n",
    "        print(\"zero\")\n",
    "    else:\n",
    "        print('error')\n",
    "        "
   ]
  },
  {
   "cell_type": "code",
   "execution_count": 2,
   "id": "a057e8e5",
   "metadata": {},
   "outputs": [
    {
     "name": "stdout",
     "output_type": "stream",
     "text": [
      "zero\n"
     ]
    }
   ],
   "source": [
    "check(0)"
   ]
  },
  {
   "cell_type": "code",
   "execution_count": null,
   "id": "2ab2dd7f",
   "metadata": {},
   "outputs": [],
   "source": [
    "2.Write a Python Program to Check if a Number is Odd or Even?"
   ]
  },
  {
   "cell_type": "code",
   "execution_count": 3,
   "id": "433beefc",
   "metadata": {},
   "outputs": [],
   "source": [
    "def check(a):\n",
    "    if(a%2==0):\n",
    "        print(\"number is even\")\n",
    "    else:\n",
    "        print(\"number is odd\")"
   ]
  },
  {
   "cell_type": "code",
   "execution_count": 4,
   "id": "f5c09caf",
   "metadata": {},
   "outputs": [
    {
     "name": "stdout",
     "output_type": "stream",
     "text": [
      "number is odd\n"
     ]
    }
   ],
   "source": [
    "check(5)"
   ]
  },
  {
   "cell_type": "code",
   "execution_count": null,
   "id": "055cdb20",
   "metadata": {},
   "outputs": [],
   "source": [
    "3.Write a Python Program to Check Leap Year?"
   ]
  },
  {
   "cell_type": "code",
   "execution_count": 11,
   "id": "20e1a05a",
   "metadata": {},
   "outputs": [],
   "source": [
    "def check(a):\n",
    "    if(((a%4==0) and (a%100)!=0 ) or (a%400==0)):\n",
    "        print(\"a is leap year\",a)\n",
    "    else:\n",
    "        print(\"non leap year\")"
   ]
  },
  {
   "cell_type": "code",
   "execution_count": 12,
   "id": "c6571cc5",
   "metadata": {},
   "outputs": [
    {
     "name": "stdout",
     "output_type": "stream",
     "text": [
      "a is leap year 1996\n"
     ]
    }
   ],
   "source": [
    "check(1996)"
   ]
  },
  {
   "cell_type": "code",
   "execution_count": 13,
   "id": "67615c43",
   "metadata": {},
   "outputs": [
    {
     "name": "stdout",
     "output_type": "stream",
     "text": [
      "a is leap year 2000\n"
     ]
    }
   ],
   "source": [
    "check(2000)"
   ]
  },
  {
   "cell_type": "code",
   "execution_count": 14,
   "id": "a2c85bfb",
   "metadata": {},
   "outputs": [
    {
     "name": "stdout",
     "output_type": "stream",
     "text": [
      "a is leap year 2020\n"
     ]
    }
   ],
   "source": [
    "check(2020)"
   ]
  },
  {
   "cell_type": "code",
   "execution_count": 15,
   "id": "303af37f",
   "metadata": {},
   "outputs": [
    {
     "name": "stdout",
     "output_type": "stream",
     "text": [
      "non leap year\n"
     ]
    }
   ],
   "source": [
    "check(2021)"
   ]
  },
  {
   "cell_type": "code",
   "execution_count": null,
   "id": "10b95265",
   "metadata": {},
   "outputs": [],
   "source": [
    "4.Write a Python Program to Check Prime Number?"
   ]
  },
  {
   "cell_type": "code",
   "execution_count": 7,
   "id": "c284658f",
   "metadata": {},
   "outputs": [],
   "source": [
    "def checkprime(a):\n",
    "    for i in range(2,a):\n",
    "        if(a%i==0):\n",
    "            print(\"not a prime\")\n",
    "            break\n",
    "    else:\n",
    "            print(\"prime\")\n",
    "        "
   ]
  },
  {
   "cell_type": "code",
   "execution_count": 9,
   "id": "6e561390",
   "metadata": {},
   "outputs": [
    {
     "name": "stdout",
     "output_type": "stream",
     "text": [
      "not a prime\n"
     ]
    }
   ],
   "source": [
    "checkprime(12)"
   ]
  },
  {
   "cell_type": "code",
   "execution_count": null,
   "id": "cb6201a3",
   "metadata": {},
   "outputs": [],
   "source": [
    "5.Write a Python Program to Print all Prime Numbers in an Interval of 1-10000?"
   ]
  },
  {
   "cell_type": "code",
   "execution_count": 50,
   "id": "7d4b0974",
   "metadata": {},
   "outputs": [],
   "source": [
    "def checkprime():\n",
    "    x=int(input(\"enter x\"))\n",
    "    y=int(input(\"enter y\"))\n",
    "    for num in range(x,y):\n",
    "        if(num>1):\n",
    "            for i in range(2,num):\n",
    "                 if(num%i==0):\n",
    "                    print(\"not a prime: \", num)\n",
    "                    break\n",
    "            else:\n",
    "                print(\"prime\",num)"
   ]
  },
  {
   "cell_type": "code",
   "execution_count": null,
   "id": "141ecdc8",
   "metadata": {},
   "outputs": [],
   "source": []
  },
  {
   "cell_type": "code",
   "execution_count": 51,
   "id": "384bc3cd",
   "metadata": {},
   "outputs": [
    {
     "name": "stdout",
     "output_type": "stream",
     "text": [
      "enter x5\n",
      "enter y50\n",
      "prime 5\n",
      "not a prime:  6\n",
      "prime 7\n",
      "not a prime:  8\n",
      "not a prime:  9\n",
      "not a prime:  10\n",
      "prime 11\n",
      "not a prime:  12\n",
      "prime 13\n",
      "not a prime:  14\n",
      "not a prime:  15\n",
      "not a prime:  16\n",
      "prime 17\n",
      "not a prime:  18\n",
      "prime 19\n",
      "not a prime:  20\n",
      "not a prime:  21\n",
      "not a prime:  22\n",
      "prime 23\n",
      "not a prime:  24\n",
      "not a prime:  25\n",
      "not a prime:  26\n",
      "not a prime:  27\n",
      "not a prime:  28\n",
      "prime 29\n",
      "not a prime:  30\n",
      "prime 31\n",
      "not a prime:  32\n",
      "not a prime:  33\n",
      "not a prime:  34\n",
      "not a prime:  35\n",
      "not a prime:  36\n",
      "prime 37\n",
      "not a prime:  38\n",
      "not a prime:  39\n",
      "not a prime:  40\n",
      "prime 41\n",
      "not a prime:  42\n",
      "prime 43\n",
      "not a prime:  44\n",
      "not a prime:  45\n",
      "not a prime:  46\n",
      "prime 47\n",
      "not a prime:  48\n",
      "not a prime:  49\n"
     ]
    }
   ],
   "source": [
    "checkprime()"
   ]
  },
  {
   "cell_type": "code",
   "execution_count": null,
   "id": "23d8db55",
   "metadata": {},
   "outputs": [],
   "source": []
  }
 ],
 "metadata": {
  "kernelspec": {
   "display_name": "Python 3",
   "language": "python",
   "name": "python3"
  },
  "language_info": {
   "codemirror_mode": {
    "name": "ipython",
    "version": 3
   },
   "file_extension": ".py",
   "mimetype": "text/x-python",
   "name": "python",
   "nbconvert_exporter": "python",
   "pygments_lexer": "ipython3",
   "version": "3.8.8"
  }
 },
 "nbformat": 4,
 "nbformat_minor": 5
}
