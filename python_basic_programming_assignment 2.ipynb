{
 "cells": [
  {
   "cell_type": "code",
   "execution_count": null,
   "id": "d9643844",
   "metadata": {},
   "outputs": [],
   "source": [
    "Write a Python program to convert kilometers to miles?\n",
    "Write a Python program to convert Celsius to Fahrenheit?\n",
    "Write a Python program to display calendar?\n",
    "Write a Python program to solve quadratic equation?\n",
    "Write a Python program to swap two variables without temp variable?\n"
   ]
  },
  {
   "cell_type": "code",
   "execution_count": null,
   "id": "ce5ad170",
   "metadata": {},
   "outputs": [],
   "source": [
    "1.Write a Python program to convert kilometers to miles?"
   ]
  },
  {
   "cell_type": "code",
   "execution_count": 7,
   "id": "5eb5bf93",
   "metadata": {},
   "outputs": [
    {
     "name": "stdout",
     "output_type": "stream",
     "text": [
      "Enter the km45\n",
      "converting km:45 to miles :27.961695\n"
     ]
    }
   ],
   "source": [
    "a=int(input(\"Enter the km\"))\n",
    "\n",
    "b=(a*0.621371)\n",
    "\n",
    "print(\"converting km:{} to miles :{}\".format(a,b))\n"
   ]
  },
  {
   "cell_type": "code",
   "execution_count": null,
   "id": "79e41214",
   "metadata": {},
   "outputs": [],
   "source": [
    "2.Write a Python program to convert Celsius to Fahrenheit?"
   ]
  },
  {
   "cell_type": "code",
   "execution_count": 10,
   "id": "5eec3cac",
   "metadata": {},
   "outputs": [
    {
     "name": "stdout",
     "output_type": "stream",
     "text": [
      "enter the celsius0\n",
      "converting :0 celsius \n",
      " to :32.0 Fahreinheit\n"
     ]
    }
   ],
   "source": [
    "a=int(input(\"enter the celsius\"))\n",
    "b=(a*9/5)+32\n",
    "print(\"converting :{} celsius \\n to :{} Fahreinheit\".format(a,b))"
   ]
  },
  {
   "cell_type": "code",
   "execution_count": null,
   "id": "52e3df11",
   "metadata": {},
   "outputs": [],
   "source": [
    "3.Write a Python program to display calendar?"
   ]
  },
  {
   "cell_type": "code",
   "execution_count": 13,
   "id": "824338d7",
   "metadata": {},
   "outputs": [],
   "source": [
    "import calendar"
   ]
  },
  {
   "cell_type": "code",
   "execution_count": 15,
   "id": "4f0fe65b",
   "metadata": {},
   "outputs": [
    {
     "name": "stdout",
     "output_type": "stream",
     "text": [
      "Enter the year2000\n",
      "enter the month10\n",
      "    October 2000\n",
      "Mo Tu We Th Fr Sa Su\n",
      "                   1\n",
      " 2  3  4  5  6  7  8\n",
      " 9 10 11 12 13 14 15\n",
      "16 17 18 19 20 21 22\n",
      "23 24 25 26 27 28 29\n",
      "30 31\n",
      "\n"
     ]
    }
   ],
   "source": [
    "import calendar\n",
    "yy=int(input(\"Enter the year\"))\n",
    "mm=int(input(\"enter the month\"))\n",
    "print(calendar.month(yy,mm))"
   ]
  },
  {
   "cell_type": "code",
   "execution_count": null,
   "id": "641ce947",
   "metadata": {},
   "outputs": [],
   "source": [
    "Write a Python program to solve quadratic equation?"
   ]
  },
  {
   "cell_type": "code",
   "execution_count": 3,
   "id": "748bf2c0",
   "metadata": {},
   "outputs": [
    {
     "name": "stdout",
     "output_type": "stream",
     "text": [
      "enter a= 10\n",
      "enter b= 50\n",
      "enter c= 60\n",
      "0j , (-100+0j)\n"
     ]
    }
   ],
   "source": [
    "##formula=(-b+-sqrt(b**2-4*a*c)/2*a)\n",
    "\n",
    "import cmath\n",
    "a=int(input(\"enter a= \"))\n",
    "b=int(input(\"enter b= \"))\n",
    "c=int(input(\"enter c= \"))\n",
    "\n",
    "disc=(b**2)-(4*a*c)\n",
    "\n",
    "x=(-b+cmath.sqrt(disc)/2*a)\n",
    "y=(-b-cmath.sqrt(disc)/2*a)\n",
    "\n",
    "print(x ,\",\", y)"
   ]
  },
  {
   "cell_type": "code",
   "execution_count": null,
   "id": "2ac04e31",
   "metadata": {},
   "outputs": [],
   "source": [
    "Write a Python program to swap two variables without temp variable?"
   ]
  },
  {
   "cell_type": "code",
   "execution_count": 10,
   "id": "12a3c987",
   "metadata": {},
   "outputs": [
    {
     "name": "stdout",
     "output_type": "stream",
     "text": [
      "2\n",
      "10\n",
      "variable1 before swap :2  var2 before swap : 10\n",
      "variable1 after swap :10 var2 afterswap : 2\n"
     ]
    }
   ],
   "source": [
    "var1=int(input())\n",
    "var2=int(input())\n",
    "\n",
    "print(\"variable1 before swap :{}  var2 before swap : {}\".format(var1,var2))\n",
    " \n",
    "var1,var2=var2,var1\n",
    "\n",
    "print(\"variable1 after swap :{} var2 afterswap : {}\".format(var1,var2))\n"
   ]
  },
  {
   "cell_type": "code",
   "execution_count": null,
   "id": "892c6c5b",
   "metadata": {},
   "outputs": [],
   "source": []
  }
 ],
 "metadata": {
  "kernelspec": {
   "display_name": "Python 3",
   "language": "python",
   "name": "python3"
  },
  "language_info": {
   "codemirror_mode": {
    "name": "ipython",
    "version": 3
   },
   "file_extension": ".py",
   "mimetype": "text/x-python",
   "name": "python",
   "nbconvert_exporter": "python",
   "pygments_lexer": "ipython3",
   "version": "3.8.8"
  }
 },
 "nbformat": 4,
 "nbformat_minor": 5
}
