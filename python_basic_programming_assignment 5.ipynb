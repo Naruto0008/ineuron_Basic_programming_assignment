{
 "cells": [
  {
   "cell_type": "code",
   "execution_count": null,
   "id": "adba1cbf",
   "metadata": {},
   "outputs": [],
   "source": [
    "Write a Python Program to Find LCM?\n",
    "Write a Python Program to Find HCF?\n",
    "Write a Python Program to Convert Decimal to Binary, Octal and Hexadecimal?\n",
    "Write a Python Program To Find ASCII value of a character?\n",
    "Write a Python Program to Make a Simple Calculator with 4 basic mathematical operations?\n"
   ]
  },
  {
   "cell_type": "code",
   "execution_count": 29,
   "id": "d7c9b4bb",
   "metadata": {},
   "outputs": [],
   "source": [
    "1.Write a Python Program to Find LCM?"
   ]
  },
  {
   "cell_type": "code",
   "execution_count": null,
   "id": "6dd18a7d",
   "metadata": {},
   "outputs": [],
   "source": [
    "1.Write a Python Program to Find LCM"
   ]
  },
  {
   "cell_type": "code",
   "execution_count": 32,
   "id": "c15470dd",
   "metadata": {},
   "outputs": [
    {
     "name": "stdout",
     "output_type": "stream",
     "text": [
      "5\n",
      "4\n",
      "20\n"
     ]
    }
   ],
   "source": [
    "a=int(input())\n",
    "b=int(input())\n",
    "if(a>b):\n",
    "        big=a\n",
    "else:\n",
    "        big=b\n",
    "while(True):\n",
    "    if((big%a)==0 and (big%b==0)):\n",
    "             LCM=big\n",
    "             break\n",
    "    big+=1\n",
    "print(LCM)"
   ]
  },
  {
   "cell_type": "code",
   "execution_count": 12,
   "id": "b5d8bf4f",
   "metadata": {},
   "outputs": [],
   "source": [
    "LCM(3,4)"
   ]
  },
  {
   "cell_type": "code",
   "execution_count": null,
   "id": "dd19d7d1",
   "metadata": {},
   "outputs": [],
   "source": [
    "2.Write a Python Program to Find HCF?"
   ]
  },
  {
   "cell_type": "code",
   "execution_count": 40,
   "id": "a47f9979",
   "metadata": {},
   "outputs": [
    {
     "name": "stdout",
     "output_type": "stream",
     "text": [
      "enter num1 4\n",
      "enter num2 6\n",
      "hcf is 2\n"
     ]
    }
   ],
   "source": [
    "a=int(input(\"enter num1 \"))\n",
    "b=int((input(\"enter num2 \")))\n",
    "if(a<b):\n",
    "    small=a\n",
    "if(b<a):\n",
    "    small=b\n",
    "for i in range(1,small+1):\n",
    "    if((a%i)==0 and (b%i)==0):\n",
    "        HCF=i\n",
    "print(\"hcf is\",HCF)"
   ]
  },
  {
   "cell_type": "code",
   "execution_count": null,
   "id": "cb1253b6",
   "metadata": {},
   "outputs": [],
   "source": [
    "Write a Python Program to Convert Decimal to Binary, Octal and Hexadecimal?"
   ]
  },
  {
   "cell_type": "code",
   "execution_count": 41,
   "id": "02896678",
   "metadata": {},
   "outputs": [
    {
     "name": "stdout",
     "output_type": "stream",
     "text": [
      "10\n",
      "for binary 0b1010\n",
      "for octal 0o12\n",
      "for hexadecimal 0xa\n"
     ]
    }
   ],
   "source": [
    "a=int(input())\n",
    "print(\"for binary\",bin(a))\n",
    "print(\"for octal\",oct(a))\n",
    "print(\"for hexadecimal\",hex(a))"
   ]
  },
  {
   "cell_type": "code",
   "execution_count": null,
   "id": "177c0a7c",
   "metadata": {},
   "outputs": [],
   "source": [
    "Write a Python Program To Find ASCII value of a character?"
   ]
  },
  {
   "cell_type": "code",
   "execution_count": 43,
   "id": "fefe7883",
   "metadata": {},
   "outputs": [
    {
     "name": "stdout",
     "output_type": "stream",
     "text": [
      "Enter a characterl\n",
      "the ascii value for character: l is 108\n"
     ]
    }
   ],
   "source": [
    "a=input(\"Enter a character\")\n",
    "#ord gives ascii value for a character given\n",
    "print(\"the ascii value for character: {} is {}\".format(a,ord(a)))"
   ]
  },
  {
   "cell_type": "code",
   "execution_count": null,
   "id": "6bd2bf01",
   "metadata": {},
   "outputs": [],
   "source": [
    "Write a Python Program to Make a Simple Calculator with 4 basic mathematical operations?"
   ]
  },
  {
   "cell_type": "code",
   "execution_count": 45,
   "id": "a560f98d",
   "metadata": {},
   "outputs": [
    {
     "name": "stdout",
     "output_type": "stream",
     "text": [
      "Enter num1 :5\n",
      "Enter num2 :2\n",
      "Enter + to add : \n",
      "Enter - to Sub :\n",
      "Enter * to multi :\n",
      "Enter / to div : +\n",
      "5.0 + 2.0 = 7.0\n"
     ]
    }
   ],
   "source": [
    "x = float(input(\"Enter num1 :\"))\n",
    "y = float(input(\"Enter num2 :\"))\n",
    "\n",
    "op = input(\"Enter + to add : \\nEnter - to Sub :\\nEnter * to multi :\\nEnter / to div : \") \n",
    "\n",
    "add = x + y\n",
    "sub = x - y\n",
    "mul = x * y\n",
    "div=x/y\n",
    "\n",
    "if op == \"+\":\n",
    "    print(\"{} + {} = {}\".format(x,y,add))\n",
    "elif op == \"-\":\n",
    "    print(\"{} - {} = {}\".format(x,y,sub))\n",
    "elif op == \"*\":\n",
    "    print(\"{} * {} = {}\".format(x,y,mul))\n",
    "elif op == \"/\":\n",
    "    if num1 == 0 or num2 == 0:\n",
    "        print(\"Division with zero is not possible\")\n",
    "    else:\n",
    "        div = x / y\n",
    "        print(\"{} / {} = {}\".format(x,y,div))\n",
    "else:\n",
    "    print(\"Invalid input\")"
   ]
  },
  {
   "cell_type": "code",
   "execution_count": null,
   "id": "9f0004e9",
   "metadata": {},
   "outputs": [],
   "source": []
  },
  {
   "cell_type": "code",
   "execution_count": null,
   "id": "b1928c2c",
   "metadata": {},
   "outputs": [],
   "source": []
  }
 ],
 "metadata": {
  "kernelspec": {
   "display_name": "Python 3",
   "language": "python",
   "name": "python3"
  },
  "language_info": {
   "codemirror_mode": {
    "name": "ipython",
    "version": 3
   },
   "file_extension": ".py",
   "mimetype": "text/x-python",
   "name": "python",
   "nbconvert_exporter": "python",
   "pygments_lexer": "ipython3",
   "version": "3.8.8"
  }
 },
 "nbformat": 4,
 "nbformat_minor": 5
}
