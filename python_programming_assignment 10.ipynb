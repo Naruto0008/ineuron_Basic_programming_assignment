{
 "cells": [
  {
   "cell_type": "code",
   "execution_count": null,
   "id": "a935cef1",
   "metadata": {},
   "outputs": [],
   "source": [
    "1. Write a Python program to find sum of elements in list?\n",
    "2. Write a Python program to Multiply all numbers in the list?\n",
    "3. Write a Python program to find smallest number in a list?\n",
    "4. Write a Python program to find largest number in a list?\n",
    "5. Write a Python program to find second largest number in a list?\n",
    "6. Write a Python program to find N largest elements from a list?\n",
    "7. Write a Python program to print even numbers in a list?\n",
    "8. Write a Python program to print odd numbers in a List?\n",
    "9. Write a Python program to Remove empty List from List?\n",
    "10. Write a Python program to Cloning or Copying a list?\n",
    "11. Write a Python program to Count occurrences of an element in a list?"
   ]
  },
  {
   "cell_type": "code",
   "execution_count": null,
   "id": "826b1802",
   "metadata": {},
   "outputs": [],
   "source": [
    "1. Write a Python program to find sum of elements in list?"
   ]
  },
  {
   "cell_type": "code",
   "execution_count": 4,
   "id": "e0a2e7ac",
   "metadata": {},
   "outputs": [
    {
     "name": "stdout",
     "output_type": "stream",
     "text": [
      "5\n",
      "1\n",
      "3\n",
      "4\n",
      "5\n",
      "5\n",
      "[1, 3, 4, 5, 5]\n",
      "18\n"
     ]
    }
   ],
   "source": [
    "s=[]\n",
    "sum=0\n",
    "n=int(input())\n",
    "for i in range(n):\n",
    "    s.append(int(input()))\n",
    "print(s)\n",
    "for i in s:\n",
    "    sum=sum+i\n",
    "print(sum)"
   ]
  },
  {
   "cell_type": "code",
   "execution_count": null,
   "id": "ecdd4509",
   "metadata": {},
   "outputs": [],
   "source": [
    "2. Write a Python program to Multiply all numbers in the list?"
   ]
  },
  {
   "cell_type": "code",
   "execution_count": 5,
   "id": "a31e8ae4",
   "metadata": {},
   "outputs": [
    {
     "name": "stdout",
     "output_type": "stream",
     "text": [
      "5\n",
      "1\n",
      "3\n",
      "4\n",
      "5\n",
      "5\n",
      "[1, 3, 4, 5, 5]\n",
      "300\n"
     ]
    }
   ],
   "source": [
    "s=[]\n",
    "mul=1\n",
    "n=int(input())\n",
    "for i in range(n):\n",
    "    s.append(int(input()))\n",
    "print(s)\n",
    "for i in s:\n",
    "    mul=mul*i\n",
    "print(mul)"
   ]
  },
  {
   "cell_type": "code",
   "execution_count": null,
   "id": "fd08a682",
   "metadata": {},
   "outputs": [],
   "source": [
    "3. Write a Python program to find smallest number in a list?"
   ]
  },
  {
   "cell_type": "code",
   "execution_count": 13,
   "id": "7ec62c23",
   "metadata": {},
   "outputs": [
    {
     "name": "stdout",
     "output_type": "stream",
     "text": [
      "5\n",
      "1\n",
      "2\n",
      "3\n",
      "5\n",
      "8\n",
      "[1, 2, 3, 5, 8]\n",
      "small 1\n"
     ]
    }
   ],
   "source": [
    "s=[]\n",
    "small=0\n",
    "n=int(input())\n",
    "for i in range(n):\n",
    "    s.append(int(input()))\n",
    "print(s)\n",
    "\n",
    "print(\"small\",min(s))"
   ]
  },
  {
   "cell_type": "code",
   "execution_count": null,
   "id": "c40d3653",
   "metadata": {},
   "outputs": [],
   "source": [
    "4. Write a Python program to find largest number in a list?"
   ]
  },
  {
   "cell_type": "code",
   "execution_count": 15,
   "id": "383b8ba7",
   "metadata": {},
   "outputs": [
    {
     "name": "stdout",
     "output_type": "stream",
     "text": [
      "3\n",
      "5\n",
      "33\n",
      "44\n",
      "[5, 33, 44]\n",
      "max 44\n"
     ]
    }
   ],
   "source": [
    "s=[]\n",
    "small=0\n",
    "n=int(input())\n",
    "for i in range(n):\n",
    "    s.append(int(input()))\n",
    "print(s)\n",
    "\n",
    "print(\"max\",max(s))"
   ]
  },
  {
   "cell_type": "code",
   "execution_count": null,
   "id": "63f93433",
   "metadata": {},
   "outputs": [],
   "source": [
    "5. Write a Python program to find second largest number in a list?"
   ]
  },
  {
   "cell_type": "code",
   "execution_count": 23,
   "id": "498a2902",
   "metadata": {},
   "outputs": [
    {
     "name": "stdout",
     "output_type": "stream",
     "text": [
      "3\n",
      "33\n",
      "100\n",
      "2\n",
      "The sorted list is: [2, 33, 100]\n",
      "The second maximum number is: 33\n"
     ]
    }
   ],
   "source": [
    "s=[]\n",
    "max=0\n",
    "n=int(input())\n",
    "for i in range(n):\n",
    "    s.append(int(input()))\n",
    "s.sort()\n",
    "print(\"The sorted list is:\",s)\n",
    "print(\"The second maximum number is:\",s[-2])\n"
   ]
  },
  {
   "cell_type": "code",
   "execution_count": null,
   "id": "05ad7685",
   "metadata": {},
   "outputs": [],
   "source": [
    "6. Write a Python program to find N largest elements from a list?"
   ]
  },
  {
   "cell_type": "code",
   "execution_count": 27,
   "id": "06dff7e6",
   "metadata": {},
   "outputs": [
    {
     "name": "stdout",
     "output_type": "stream",
     "text": [
      "5\n",
      "3\n",
      "55\n",
      "99\n",
      "88\n",
      "11\n",
      "3\n",
      "The sorted list is: [3, 11, 55, 88, 99]\n",
      "The maxmium N largest elements: [88, 99]\n"
     ]
    }
   ],
   "source": [
    "s=[]\n",
    "max=0\n",
    "n=int(input())\n",
    "N=int(input())\n",
    "\n",
    "for i in range(n):\n",
    "    s.append(int(input()))\n",
    "s.sort()\n",
    "print(\"The sorted list is:\",s)\n",
    "print(\"The maxmium N largest elements:\",s[N::])\n",
    "\n"
   ]
  },
  {
   "cell_type": "code",
   "execution_count": null,
   "id": "411ef804",
   "metadata": {},
   "outputs": [],
   "source": [
    "7. Write a Python program to print even numbers in a list?"
   ]
  },
  {
   "cell_type": "code",
   "execution_count": 29,
   "id": "f753dfe6",
   "metadata": {},
   "outputs": [
    {
     "name": "stdout",
     "output_type": "stream",
     "text": [
      "5\n",
      "1\n",
      "2\n",
      "3\n",
      "4\n",
      "5\n",
      "[0, 2, 4]\n"
     ]
    }
   ],
   "source": [
    "s=[]\n",
    "even=[]\n",
    "n=int(input())\n",
    "\n",
    "for i in range(n):\n",
    "    s.append(int(input()))\n",
    "for i in range(n):\n",
    "    if(i%2==0):\n",
    "        even.append(i)\n",
    "print(even)"
   ]
  },
  {
   "cell_type": "code",
   "execution_count": null,
   "id": "2c581b9c",
   "metadata": {},
   "outputs": [],
   "source": [
    "8. Write a Python program to print odd numbers in a List?"
   ]
  },
  {
   "cell_type": "code",
   "execution_count": 30,
   "id": "f6688073",
   "metadata": {},
   "outputs": [
    {
     "name": "stdout",
     "output_type": "stream",
     "text": [
      "5\n",
      "1\n",
      "2\n",
      "3\n",
      "4\n",
      "5\n",
      "[1, 3]\n"
     ]
    }
   ],
   "source": [
    "s=[]\n",
    "odd=[]\n",
    "n=int(input())\n",
    "\n",
    "for i in range(n):\n",
    "    s.append(int(input()))\n",
    "for i in range(n):\n",
    "    if(i%2==1):\n",
    "        odd.append(i)\n",
    "print(odd)"
   ]
  },
  {
   "cell_type": "code",
   "execution_count": null,
   "id": "e979947c",
   "metadata": {},
   "outputs": [],
   "source": [
    "9. Write a Python program to Remove empty List from List?"
   ]
  },
  {
   "cell_type": "code",
   "execution_count": 31,
   "id": "8df18c9a",
   "metadata": {},
   "outputs": [],
   "source": [
    "l=[55,[],33,43,332,2,1,[]]"
   ]
  },
  {
   "cell_type": "code",
   "execution_count": 32,
   "id": "ec6a47f4",
   "metadata": {},
   "outputs": [
    {
     "data": {
      "text/plain": [
       "[55, [], 33, 43, 332, 2, 1, []]"
      ]
     },
     "execution_count": 32,
     "metadata": {},
     "output_type": "execute_result"
    }
   ],
   "source": [
    "l\n"
   ]
  },
  {
   "cell_type": "code",
   "execution_count": 42,
   "id": "e29a36ea",
   "metadata": {},
   "outputs": [
    {
     "name": "stdout",
     "output_type": "stream",
     "text": [
      "[55, 33, 43, 332, 2, 1]\n"
     ]
    }
   ],
   "source": [
    "\n",
    "x=[]\n",
    "for i in  l:\n",
    "    if(i!=[]):\n",
    "        x.append(i)\n",
    "print(x)"
   ]
  },
  {
   "cell_type": "code",
   "execution_count": null,
   "id": "ff5c7b87",
   "metadata": {},
   "outputs": [],
   "source": [
    "10. Write a Python program to Cloning or Copying a list?"
   ]
  },
  {
   "cell_type": "code",
   "execution_count": 64,
   "id": "6eb7fc93",
   "metadata": {},
   "outputs": [
    {
     "name": "stdout",
     "output_type": "stream",
     "text": [
      "5\n",
      "1\n",
      "2\n",
      "3\n",
      "4\n",
      "5\n",
      "[1, 2, 3, 4, 5]\n",
      "cloning one by one [1, 2, 3, 4, 5]\n"
     ]
    }
   ],
   "source": [
    "s=[]\n",
    "n=int(input())\n",
    "for i in range(n):\n",
    "    s.append(int(input()))\n",
    "print(s)\n",
    "s_copy=s.copy()\n",
    "print(\"cloning one by one\",s_copy)\n"
   ]
  },
  {
   "cell_type": "code",
   "execution_count": null,
   "id": "7bc3374e",
   "metadata": {},
   "outputs": [],
   "source": [
    "11. Write a Python program to Count occurrences of an element in a list?"
   ]
  },
  {
   "cell_type": "code",
   "execution_count": 74,
   "id": "c772af0d",
   "metadata": {},
   "outputs": [
    {
     "name": "stdout",
     "output_type": "stream",
     "text": [
      "5\n",
      "44\n",
      "44\n",
      "44\n",
      "2\n",
      "1\n",
      "44\n",
      "3\n"
     ]
    }
   ],
   "source": [
    "s=[]\n",
    "count=0\n",
    "n=int(input())\n",
    "for i in range(n):\n",
    "    s.append(int(input()))\n",
    "N=int(input())\n",
    "for i in s:\n",
    "    if(i==N):\n",
    "        count+=1\n",
    "    else:\n",
    "        continue\n",
    "print(count)"
   ]
  },
  {
   "cell_type": "code",
   "execution_count": null,
   "id": "0e48e0bb",
   "metadata": {},
   "outputs": [],
   "source": []
  },
  {
   "cell_type": "code",
   "execution_count": null,
   "id": "0d794b68",
   "metadata": {},
   "outputs": [],
   "source": []
  },
  {
   "cell_type": "code",
   "execution_count": null,
   "id": "8a39c1e9",
   "metadata": {},
   "outputs": [],
   "source": []
  },
  {
   "cell_type": "code",
   "execution_count": null,
   "id": "312c29e0",
   "metadata": {},
   "outputs": [],
   "source": []
  }
 ],
 "metadata": {
  "kernelspec": {
   "display_name": "Python 3",
   "language": "python",
   "name": "python3"
  },
  "language_info": {
   "codemirror_mode": {
    "name": "ipython",
    "version": 3
   },
   "file_extension": ".py",
   "mimetype": "text/x-python",
   "name": "python",
   "nbconvert_exporter": "python",
   "pygments_lexer": "ipython3",
   "version": "3.8.8"
  }
 },
 "nbformat": 4,
 "nbformat_minor": 5
}
