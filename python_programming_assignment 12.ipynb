{
 "cells": [
  {
   "cell_type": "code",
   "execution_count": null,
   "id": "5a0f85cf",
   "metadata": {},
   "outputs": [],
   "source": [
    "1. Write a Python program to Extract Unique values dictionary values?\n",
    "2. Write a Python program to find the sum of all items in a dictionary?\n",
    "3. Write a Python program to Merging two Dictionaries?\n",
    "4. Write a Python program to convert key-values list to flat dictionary?\n",
    "5. Write a Python program to insertion at the beginning in OrderedDict?\n",
    "6. Write a Python program to check order of character in string using OrderedDict()?\n",
    "7. Write a Python program to sort Python Dictionaries by Key or Value?"
   ]
  },
  {
   "cell_type": "code",
   "execution_count": null,
   "id": "31b6c7a6",
   "metadata": {},
   "outputs": [],
   "source": [
    "1. Write a Python program to Extract Unique values dictionary values?"
   ]
  },
  {
   "cell_type": "code",
   "execution_count": 21,
   "id": "e0795656",
   "metadata": {},
   "outputs": [],
   "source": [
    "dict1 = {'a' : [3, 64, 17, 66],\n",
    "             'b' : [1, 21, 47, 45],\n",
    "             'c' : [0, 17, 7, 81],\n",
    "             'd' : [3, 3, 4,8]}"
   ]
  },
  {
   "cell_type": "code",
   "execution_count": 26,
   "id": "3b999bca",
   "metadata": {},
   "outputs": [
    {
     "name": "stdout",
     "output_type": "stream",
     "text": [
      "unique values are: [64, 1, 66, 3, 0, 4, 7, 8, 45, 47, 17, 81, 21]\n"
     ]
    }
   ],
   "source": [
    "unique=list(set([ele for val in dict1.values() for ele in val]))\n",
    "print(\"unique values are: {}\".format(unique))"
   ]
  },
  {
   "cell_type": "code",
   "execution_count": null,
   "id": "db8b55ac",
   "metadata": {},
   "outputs": [],
   "source": [
    "2. Write a Python program to find the sum of all items in a dictionary?"
   ]
  },
  {
   "cell_type": "code",
   "execution_count": 56,
   "id": "9eeda4ff",
   "metadata": {},
   "outputs": [],
   "source": [
    "dict1 = {'a' : 44,\n",
    "             'b' : 45,\n",
    "             'c' : 81,\n",
    "             'd' : 88}\n",
    "sum2=0"
   ]
  },
  {
   "cell_type": "code",
   "execution_count": 57,
   "id": "72000e19",
   "metadata": {},
   "outputs": [
    {
     "name": "stdout",
     "output_type": "stream",
     "text": [
      "258\n"
     ]
    }
   ],
   "source": [
    "for i in dict1.values():\n",
    "    sum2=sum2+i\n",
    "print(sum2)"
   ]
  },
  {
   "cell_type": "code",
   "execution_count": null,
   "id": "fd8a921d",
   "metadata": {},
   "outputs": [],
   "source": [
    "3. Write a Python program to Merging two Dictionaries?"
   ]
  },
  {
   "cell_type": "code",
   "execution_count": 91,
   "id": "2c1f0fd0",
   "metadata": {},
   "outputs": [],
   "source": [
    "dict1 = {'a' : 44,\n",
    "             'b' : 45,\n",
    "             'c' : 81,\n",
    "             'd' : 88}"
   ]
  },
  {
   "cell_type": "code",
   "execution_count": 92,
   "id": "8279a974",
   "metadata": {},
   "outputs": [],
   "source": [
    "dict2 = {'d' : [3, 64, 17, 66],\n",
    "             'g' : [1, 21, 47, 45],\n",
    "             'h' : [0, 17, 7, 81],\n",
    "             'i' : [3, 3, 4,8]}"
   ]
  },
  {
   "cell_type": "code",
   "execution_count": 93,
   "id": "78e2f50f",
   "metadata": {},
   "outputs": [],
   "source": [
    "dict2.update(dict1)"
   ]
  },
  {
   "cell_type": "code",
   "execution_count": 94,
   "id": "3ddd170a",
   "metadata": {},
   "outputs": [
    {
     "name": "stdout",
     "output_type": "stream",
     "text": [
      "{'d': 88, 'g': [1, 21, 47, 45], 'h': [0, 17, 7, 81], 'i': [3, 3, 4, 8], 'a': 44, 'b': 45, 'c': 81}\n"
     ]
    }
   ],
   "source": [
    "print(dict2)"
   ]
  },
  {
   "cell_type": "code",
   "execution_count": 72,
   "id": "85b577e3",
   "metadata": {},
   "outputs": [
    {
     "data": {
      "text/plain": [
       "{'a': 44, 'b': 45, 'c': 81, 'd': 88}"
      ]
     },
     "execution_count": 72,
     "metadata": {},
     "output_type": "execute_result"
    }
   ],
   "source": [
    "dict2"
   ]
  },
  {
   "cell_type": "code",
   "execution_count": 73,
   "id": "7ee8a805",
   "metadata": {},
   "outputs": [
    {
     "data": {
      "text/plain": [
       "{'a': 44, 'b': 45, 'c': 81, 'd': 88}"
      ]
     },
     "execution_count": 73,
     "metadata": {},
     "output_type": "execute_result"
    }
   ],
   "source": [
    "dict1"
   ]
  },
  {
   "cell_type": "code",
   "execution_count": null,
   "id": "2246a7ef",
   "metadata": {},
   "outputs": [],
   "source": [
    "4. Write a Python program to convert key-values list to flat dictionary?"
   ]
  },
  {
   "cell_type": "code",
   "execution_count": 107,
   "id": "8ebe8b5c",
   "metadata": {},
   "outputs": [
    {
     "name": "stdout",
     "output_type": "stream",
     "text": [
      "{'month_num': [1, 2, 3, 4, 5, 6], 'name_of_month': ['Jan', 'Feb', 'March', 'Apr', 'May', 'June']}\n"
     ]
    }
   ],
   "source": [
    "my_dict = {'month_num' : [1, 2, 3, 4, 5, 6], 'name_of_month' : ['Jan', 'Feb', 'March', 'Apr', 'May', 'June']}\n",
    "print(my_dict)"
   ]
  },
  {
   "cell_type": "code",
   "execution_count": 108,
   "id": "52c2771a",
   "metadata": {},
   "outputs": [
    {
     "ename": "TypeError",
     "evalue": "'dict' object is not callable",
     "output_type": "error",
     "traceback": [
      "\u001b[1;31m---------------------------------------------------------------------------\u001b[0m",
      "\u001b[1;31mTypeError\u001b[0m                                 Traceback (most recent call last)",
      "\u001b[1;32m<ipython-input-108-58cd9f23f7ff>\u001b[0m in \u001b[0;36m<module>\u001b[1;34m\u001b[0m\n\u001b[1;32m----> 1\u001b[1;33m \u001b[0mresult\u001b[0m\u001b[1;33m=\u001b[0m\u001b[0mdict\u001b[0m\u001b[1;33m(\u001b[0m\u001b[0mzip\u001b[0m\u001b[1;33m(\u001b[0m\u001b[0mmy_dict\u001b[0m\u001b[1;33m[\u001b[0m\u001b[1;34m'month_num'\u001b[0m\u001b[1;33m]\u001b[0m\u001b[1;33m,\u001b[0m\u001b[0mmy_dict\u001b[0m\u001b[1;33m[\u001b[0m\u001b[1;34m'name_of_month'\u001b[0m\u001b[1;33m]\u001b[0m\u001b[1;33m)\u001b[0m\u001b[1;33m)\u001b[0m\u001b[1;33m\u001b[0m\u001b[1;33m\u001b[0m\u001b[0m\n\u001b[0m\u001b[0;32m      2\u001b[0m \u001b[0mprint\u001b[0m\u001b[1;33m(\u001b[0m\u001b[0mresult\u001b[0m\u001b[1;33m)\u001b[0m\u001b[1;33m\u001b[0m\u001b[1;33m\u001b[0m\u001b[0m\n",
      "\u001b[1;31mTypeError\u001b[0m: 'dict' object is not callable"
     ]
    }
   ],
   "source": [
    "result=dict(zip(my_dict['month_num'],my_dict['name_of_month']))\n",
    "print(result)"
   ]
  },
  {
   "cell_type": "code",
   "execution_count": null,
   "id": "b7b33d5d",
   "metadata": {},
   "outputs": [],
   "source": [
    "5. Write a Python program to insertion at the beginning in OrderedDict?"
   ]
  },
  {
   "cell_type": "code",
   "execution_count": 135,
   "id": "ca730d7f",
   "metadata": {},
   "outputs": [],
   "source": [
    "from collections import OrderedDict\n",
    "\n",
    "X=OrderedDict({'Jan':2020,\"Kal\":2030})\n",
    "X.update({'Dec':555})\n"
   ]
  },
  {
   "cell_type": "code",
   "execution_count": 137,
   "id": "17055b02",
   "metadata": {},
   "outputs": [
    {
     "name": "stdout",
     "output_type": "stream",
     "text": [
      "OrderedDict([('Dec', 555), ('Jan', 2020), ('Kal', 2030)])\n"
     ]
    }
   ],
   "source": [
    "X.move_to_end('Dec', last= False)\n",
    "print(X)"
   ]
  },
  {
   "cell_type": "code",
   "execution_count": null,
   "id": "532f9bb7",
   "metadata": {},
   "outputs": [],
   "source": [
    "6. Write a Python program to check order of character in string using OrderedDict()?"
   ]
  },
  {
   "cell_type": "code",
   "execution_count": 146,
   "id": "e619d87d",
   "metadata": {},
   "outputs": [
    {
     "name": "stdout",
     "output_type": "stream",
     "text": [
      "enter the string: naruto\n",
      "Enter the pattern: uo\n",
      "OrderedDict([('n', None), ('a', None), ('r', None), ('u', None), ('t', None), ('o', None)])\n",
      "pattern matched\n"
     ]
    }
   ],
   "source": [
    "def checkorder(string,pattern):\n",
    "    dict1=OrderedDict.fromkeys(string)\n",
    "    print(dict1)\n",
    "    ptr=0\n",
    "    for key,value in dict1.items():\n",
    "        if(key==pattern[ptr]):\n",
    "            ptr+=1\n",
    "        if(ptr==len(pattern)):\n",
    "            return True\n",
    "    return False\n",
    "string=input(\"enter the string: \")\n",
    "pattern=input(\"Enter the pattern: \")\n",
    "if checkorder(string,pattern):\n",
    "    print(\"pattern matched\")\n",
    "else:\n",
    "    print(\"nope\")"
   ]
  },
  {
   "cell_type": "code",
   "execution_count": null,
   "id": "87b58494",
   "metadata": {},
   "outputs": [],
   "source": [
    "7. Write a Python program to sort Python Dictionaries by Key or Value?"
   ]
  },
  {
   "cell_type": "code",
   "execution_count": 147,
   "id": "f8c2ef97",
   "metadata": {},
   "outputs": [],
   "source": [
    "dict1={'kal':4,'a':88,'j':89,'l':890}"
   ]
  },
  {
   "cell_type": "code",
   "execution_count": 149,
   "id": "6273a5c6",
   "metadata": {},
   "outputs": [
    {
     "name": "stdout",
     "output_type": "stream",
     "text": [
      "['a', 'j', 'kal', 'l']\n"
     ]
    }
   ],
   "source": [
    "print(sorted(dict1.keys()))"
   ]
  },
  {
   "cell_type": "code",
   "execution_count": 150,
   "id": "b5bef242",
   "metadata": {},
   "outputs": [
    {
     "name": "stdout",
     "output_type": "stream",
     "text": [
      "[4, 88, 89, 890]\n"
     ]
    }
   ],
   "source": [
    "print(sorted(dict1.values()))"
   ]
  },
  {
   "cell_type": "code",
   "execution_count": 152,
   "id": "26f3b0f5",
   "metadata": {},
   "outputs": [
    {
     "name": "stdout",
     "output_type": "stream",
     "text": [
      "[('a', 88), ('j', 89), ('kal', 4), ('l', 890)]\n"
     ]
    }
   ],
   "source": [
    "print(sorted(dict1.items()))"
   ]
  },
  {
   "cell_type": "code",
   "execution_count": null,
   "id": "9f5b94df",
   "metadata": {},
   "outputs": [],
   "source": []
  }
 ],
 "metadata": {
  "kernelspec": {
   "display_name": "Python 3",
   "language": "python",
   "name": "python3"
  },
  "language_info": {
   "codemirror_mode": {
    "name": "ipython",
    "version": 3
   },
   "file_extension": ".py",
   "mimetype": "text/x-python",
   "name": "python",
   "nbconvert_exporter": "python",
   "pygments_lexer": "ipython3",
   "version": "3.8.8"
  }
 },
 "nbformat": 4,
 "nbformat_minor": 5
}
