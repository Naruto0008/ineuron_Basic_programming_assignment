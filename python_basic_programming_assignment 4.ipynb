{
 "cells": [
  {
   "cell_type": "code",
   "execution_count": null,
   "id": "d7892d53",
   "metadata": {},
   "outputs": [],
   "source": [
    "1.Write a Python Program to Find the Factorial of a Number?\n",
    "2.Write a Python Program to Display the multiplication Table?\n",
    "3.Write a Python Program to Print the Fibonacci sequence?\n",
    "4.Write a Python Program to Check Armstrong Number?\n",
    "5.Write a Python Program to Find Armstrong Number in an Interval?\n",
    "6.Write a Python Program to Find the Sum of Natural Numbers?\n"
   ]
  },
  {
   "cell_type": "code",
   "execution_count": null,
   "id": "70fcacdc",
   "metadata": {},
   "outputs": [],
   "source": [
    "1.Write a Python Program to Find the Factorial of a Number?"
   ]
  },
  {
   "cell_type": "code",
   "execution_count": 37,
   "id": "cf9b586b",
   "metadata": {},
   "outputs": [],
   "source": [
    "def fact(a):\n",
    "        if(a==1):\n",
    "            return 1\n",
    "        elif(a>=1):\n",
    "                b=a*fact(a-1)\n",
    "                return b"
   ]
  },
  {
   "cell_type": "code",
   "execution_count": 39,
   "id": "c1c55556",
   "metadata": {},
   "outputs": [
    {
     "data": {
      "text/plain": [
       "24"
      ]
     },
     "execution_count": 39,
     "metadata": {},
     "output_type": "execute_result"
    }
   ],
   "source": [
    "fact(4)"
   ]
  },
  {
   "cell_type": "code",
   "execution_count": null,
   "id": "51fd0311",
   "metadata": {},
   "outputs": [],
   "source": [
    "2.Write a Python Program to Display the multiplication Table?"
   ]
  },
  {
   "cell_type": "code",
   "execution_count": 60,
   "id": "3e802388",
   "metadata": {},
   "outputs": [],
   "source": [
    "def table(a):\n",
    "    for i in range(1,10):\n",
    "        print(\"{}*{}=\" .format(a,i),a*i)\n",
    "        "
   ]
  },
  {
   "cell_type": "code",
   "execution_count": 61,
   "id": "342e34ab",
   "metadata": {},
   "outputs": [
    {
     "name": "stdout",
     "output_type": "stream",
     "text": [
      "3*1= 3\n",
      "3*2= 6\n",
      "3*3= 9\n",
      "3*4= 12\n",
      "3*5= 15\n",
      "3*6= 18\n",
      "3*7= 21\n",
      "3*8= 24\n",
      "3*9= 27\n"
     ]
    }
   ],
   "source": [
    "table(3)"
   ]
  },
  {
   "cell_type": "code",
   "execution_count": null,
   "id": "23b0d6d0",
   "metadata": {},
   "outputs": [],
   "source": [
    "3.Write a Python Program to Print the Fibonacci sequence?"
   ]
  },
  {
   "cell_type": "code",
   "execution_count": 67,
   "id": "03947dc8",
   "metadata": {},
   "outputs": [],
   "source": [
    "def fib(n):\n",
    "    a=0\n",
    "    b=1\n",
    "    l=[]\n",
    "    for i in range(n):\n",
    "        l.append(a)\n",
    "        a,b=b,a+b\n",
    "    return l"
   ]
  },
  {
   "cell_type": "code",
   "execution_count": 69,
   "id": "5b5837b4",
   "metadata": {},
   "outputs": [
    {
     "data": {
      "text/plain": [
       "[0, 1, 1, 2, 3]"
      ]
     },
     "execution_count": 69,
     "metadata": {},
     "output_type": "execute_result"
    }
   ],
   "source": [
    "fib(5)"
   ]
  },
  {
   "cell_type": "code",
   "execution_count": null,
   "id": "cd1fefe9",
   "metadata": {},
   "outputs": [],
   "source": []
  },
  {
   "cell_type": "code",
   "execution_count": null,
   "id": "5247e99f",
   "metadata": {},
   "outputs": [],
   "source": [
    "4.Write a Python Program to Check Armstrong Number?"
   ]
  },
  {
   "cell_type": "code",
   "execution_count": 11,
   "id": "73bfabd5",
   "metadata": {},
   "outputs": [
    {
     "name": "stdout",
     "output_type": "stream",
     "text": [
      "40\n",
      "nope\n"
     ]
    }
   ],
   "source": [
    "n=int(input())\n",
    "sum=0\n",
    "y=n\n",
    "x=len(str(n))\n",
    "while(n>0):\n",
    "        a=n%10\n",
    "        sum=sum+pow(a,x)\n",
    "        n=n//10\n",
    "if(y==sum):\n",
    "    print(\"armstrong\")\n",
    "else:\n",
    "    print(\"nope\")"
   ]
  },
  {
   "cell_type": "code",
   "execution_count": 12,
   "id": "41ab9546",
   "metadata": {},
   "outputs": [
    {
     "name": "stdout",
     "output_type": "stream",
     "text": [
      "Object `Interval` not found.\n"
     ]
    }
   ],
   "source": [
    "5.Write a Python Program to Find Armstrong Number in an Interval?"
   ]
  },
  {
   "cell_type": "code",
   "execution_count": null,
   "id": "1b0a1126",
   "metadata": {},
   "outputs": [],
   "source": [
    "5.Write a Python Program to Find Armstrong Number in an Interval"
   ]
  },
  {
   "cell_type": "code",
   "execution_count": 3,
   "id": "39b2d49c",
   "metadata": {},
   "outputs": [
    {
     "name": "stdout",
     "output_type": "stream",
     "text": [
      "enter a150\n",
      "enter b155\n",
      "not an armstrong number 150\n",
      "not an armstrong number 151\n",
      "not an armstrong number 152\n",
      "number is armstrong 153\n",
      "not an armstrong number 154\n"
     ]
    }
   ],
   "source": [
    "a=int(input(\"enter a\"))\n",
    "b=int(input(\"enter b\"))\n",
    "for i in range(a,b):\n",
    "    if(i>0):\n",
    "            sum=0\n",
    "            y=i\n",
    "            x=len(str(i))\n",
    "            while(i>0):\n",
    "                a=i%10\n",
    "                sum=sum+pow(a,x)\n",
    "                i=i//10\n",
    "            if(y==sum):\n",
    "                 print(\"number is armstrong\",y)\n",
    "            else:\n",
    "                print(\"not an armstrong number\",y)   "
   ]
  },
  {
   "cell_type": "code",
   "execution_count": null,
   "id": "75cb6d42",
   "metadata": {},
   "outputs": [],
   "source": [
    "6.Write a Python Program to Find the Sum of Natural Numbers?"
   ]
  },
  {
   "cell_type": "code",
   "execution_count": 27,
   "id": "b49c7976",
   "metadata": {},
   "outputs": [
    {
     "name": "stdout",
     "output_type": "stream",
     "text": [
      "10\n",
      "55\n"
     ]
    }
   ],
   "source": [
    "x=0\n",
    "n=int(input())\n",
    "for i in range(0,n+1):\n",
    "        x+=i\n",
    "print(x)\n",
    "    "
   ]
  },
  {
   "cell_type": "code",
   "execution_count": null,
   "id": "47230403",
   "metadata": {},
   "outputs": [],
   "source": []
  }
 ],
 "metadata": {
  "kernelspec": {
   "display_name": "Python 3",
   "language": "python",
   "name": "python3"
  },
  "language_info": {
   "codemirror_mode": {
    "name": "ipython",
    "version": 3
   },
   "file_extension": ".py",
   "mimetype": "text/x-python",
   "name": "python",
   "nbconvert_exporter": "python",
   "pygments_lexer": "ipython3",
   "version": "3.8.8"
  }
 },
 "nbformat": 4,
 "nbformat_minor": 5
}
