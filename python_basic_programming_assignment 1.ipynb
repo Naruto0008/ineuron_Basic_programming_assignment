{
 "cells": [
  {
   "cell_type": "code",
   "execution_count": null,
   "id": "8e17ece8",
   "metadata": {},
   "outputs": [],
   "source": [
    "Write a Python program to print \"Hello Python\"?\n",
    "Write a Python program to do arithmetical operations addition and division.?\n",
    "Write a Python program to find the area of a triangle?\n",
    "Write a Python program to swap two variables?\n",
    "Write a Python program to generate a random number?\n"
   ]
  },
  {
   "cell_type": "code",
   "execution_count": null,
   "id": "3d6d521f",
   "metadata": {},
   "outputs": [],
   "source": [
    "1.Write a Python program to print \"Hello Python\"?"
   ]
  },
  {
   "cell_type": "code",
   "execution_count": 1,
   "id": "30f0927a",
   "metadata": {},
   "outputs": [
    {
     "name": "stdout",
     "output_type": "stream",
     "text": [
      "Hello python\n"
     ]
    }
   ],
   "source": [
    "print(\"Hello python\")"
   ]
  },
  {
   "cell_type": "code",
   "execution_count": null,
   "id": "26b33994",
   "metadata": {},
   "outputs": [],
   "source": [
    "2.Write a Python program to do arithmetical operations addition and division.?"
   ]
  },
  {
   "cell_type": "code",
   "execution_count": 2,
   "id": "d83b2176",
   "metadata": {},
   "outputs": [],
   "source": [
    "a=10\n",
    "b=9"
   ]
  },
  {
   "cell_type": "code",
   "execution_count": 3,
   "id": "63b319a1",
   "metadata": {},
   "outputs": [
    {
     "data": {
      "text/plain": [
       "19"
      ]
     },
     "execution_count": 3,
     "metadata": {},
     "output_type": "execute_result"
    }
   ],
   "source": [
    "a+b"
   ]
  },
  {
   "cell_type": "code",
   "execution_count": 5,
   "id": "9ffef734",
   "metadata": {},
   "outputs": [
    {
     "data": {
      "text/plain": [
       "1"
      ]
     },
     "execution_count": 5,
     "metadata": {},
     "output_type": "execute_result"
    }
   ],
   "source": [
    "a%b"
   ]
  },
  {
   "cell_type": "code",
   "execution_count": null,
   "id": "8bbe2ce9",
   "metadata": {},
   "outputs": [],
   "source": [
    "3.Write a Python program to find the area of a triangle?"
   ]
  },
  {
   "cell_type": "code",
   "execution_count": 8,
   "id": "8a160743",
   "metadata": {},
   "outputs": [
    {
     "name": "stdout",
     "output_type": "stream",
     "text": [
      "enter the base10\n",
      "enter the height5\n",
      "25.0\n"
     ]
    }
   ],
   "source": [
    "a=int(input(\"enter the base\"))\n",
    "b=int(input(\"enter the height\"))\n",
    "area=(a*b/2)\n",
    "print(area)"
   ]
  },
  {
   "cell_type": "code",
   "execution_count": null,
   "id": "1728a688",
   "metadata": {},
   "outputs": [],
   "source": [
    "4.Write a Python program to swap two variables?"
   ]
  },
  {
   "cell_type": "code",
   "execution_count": 10,
   "id": "22b6ed34",
   "metadata": {},
   "outputs": [
    {
     "name": "stdout",
     "output_type": "stream",
     "text": [
      "enter first variable10\n",
      "enter second variable20\n",
      "first variable before swap : 10 \n",
      " second variable before swap : 20\n",
      "first variable after swap : 20 \n",
      " second variable before swap : 10\n"
     ]
    }
   ],
   "source": [
    "var1=int(input(\"enter first variable\"))\n",
    "var2=int(input(\"enter second variable\"))\n",
    "\n",
    "print(\"first variable before swap : {} \\n second variable before swap : {}\".format(var1,var2))\n",
    "var1,var2=var2,var1\n",
    "print(\"first variable after swap : {} \\n second variable before swap : {}\".format(var1,var2))\n",
    "  "
   ]
  },
  {
   "cell_type": "code",
   "execution_count": null,
   "id": "08b068ab",
   "metadata": {},
   "outputs": [],
   "source": [
    "5.Write a Python program to generate a random number?"
   ]
  },
  {
   "cell_type": "code",
   "execution_count": 25,
   "id": "32253ab9",
   "metadata": {},
   "outputs": [],
   "source": [
    "import random\n",
    "a=random.randint(0,100)"
   ]
  },
  {
   "cell_type": "code",
   "execution_count": 26,
   "id": "20af8a95",
   "metadata": {},
   "outputs": [
    {
     "name": "stdout",
     "output_type": "stream",
     "text": [
      "84\n"
     ]
    }
   ],
   "source": [
    "print(a)"
   ]
  },
  {
   "cell_type": "code",
   "execution_count": null,
   "id": "7cee1094",
   "metadata": {},
   "outputs": [],
   "source": []
  }
 ],
 "metadata": {
  "kernelspec": {
   "display_name": "Python 3",
   "language": "python",
   "name": "python3"
  },
  "language_info": {
   "codemirror_mode": {
    "name": "ipython",
    "version": 3
   },
   "file_extension": ".py",
   "mimetype": "text/x-python",
   "name": "python",
   "nbconvert_exporter": "python",
   "pygments_lexer": "ipython3",
   "version": "3.8.8"
  }
 },
 "nbformat": 4,
 "nbformat_minor": 5
}
