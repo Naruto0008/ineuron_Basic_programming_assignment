{
 "cells": [
  {
   "cell_type": "code",
   "execution_count": null,
   "id": "5174d538",
   "metadata": {},
   "outputs": [],
   "source": [
    "1. Write a Python Program to Add Two Matrices?\n",
    "2. Write a Python Program to Multiply Two Matrices?\n",
    "3. Write a Python Program to Transpose a Matrix?\n",
    "4. Write a Python Program to Sort Words in Alphabetic Order?\n",
    "5. Write a Python Program to Remove Punctuation From a String?"
   ]
  },
  {
   "cell_type": "code",
   "execution_count": null,
   "id": "bbec0bd9",
   "metadata": {},
   "outputs": [],
   "source": [
    "1. Write a Python Program to Add Two Matrices?"
   ]
  },
  {
   "cell_type": "code",
   "execution_count": 5,
   "id": "57e010b1",
   "metadata": {},
   "outputs": [],
   "source": [
    "l=[[1,2,3],\n",
    "   [4,5,6]]"
   ]
  },
  {
   "cell_type": "code",
   "execution_count": 7,
   "id": "db1b4c1d",
   "metadata": {},
   "outputs": [],
   "source": [
    "m=[[2,3,4],\n",
    "   [5,6,8]]"
   ]
  },
  {
   "cell_type": "code",
   "execution_count": null,
   "id": "29c8fc05",
   "metadata": {},
   "outputs": [],
   "source": [
    "result=[]"
   ]
  },
  {
   "cell_type": "code",
   "execution_count": 5,
   "id": "9853f1a6",
   "metadata": {},
   "outputs": [
    {
     "name": "stdout",
     "output_type": "stream",
     "text": [
      "enter number of rows3\n",
      "enter number of colums3\n",
      "enter the etries row wise\n",
      "1\n",
      "4\n",
      "3\n",
      "2\n",
      "5\n",
      "6\n",
      "7\n",
      "8\n",
      "9\n",
      "1 4 3 \n",
      "2 5 6 \n",
      "7 8 9 \n"
     ]
    }
   ],
   "source": [
    "m=int(input(\"enter number of rows\"))\n",
    "n=int(input(\"enter number of colums\"))\n",
    "k=[]\n",
    "print(\"enter the etries row wise\")\n",
    "\n",
    "##userinput\n",
    "\n",
    "for i in range(m):\n",
    "    a=[]\n",
    "    for j in range(n):\n",
    "            a.append(int(input()))\n",
    "    k.append(a)\n",
    "\n",
    "#forprinting\n",
    "\n",
    "for i in range(m):\n",
    "    for j in range(n):\n",
    "           print(k[i][j],end=\" \")\n",
    "    print()"
   ]
  },
  {
   "cell_type": "code",
   "execution_count": null,
   "id": "8fefaa18",
   "metadata": {},
   "outputs": [],
   "source": [
    "k"
   ]
  },
  {
   "cell_type": "code",
   "execution_count": 1,
   "id": "787183cf",
   "metadata": {},
   "outputs": [
    {
     "name": "stdout",
     "output_type": "stream",
     "text": [
      "enter number of rows3\n",
      "enter number of colums3\n",
      "enter the etries row wise\n",
      "1\n",
      "2\n",
      "3\n",
      "4\n",
      "5\n",
      "6\n",
      "7\n",
      "8\n",
      "9\n",
      "1 2 3 \n",
      "4 5 6 \n",
      "7 8 9 \n"
     ]
    }
   ],
   "source": [
    "m=int(input(\"enter number of rows\"))\n",
    "n=int(input(\"enter number of colums\"))\n",
    "pp=[]\n",
    "print(\"enter the etries row wise\")\n",
    "\n",
    "##userinput\n",
    "\n",
    "for i in range(m):\n",
    "    a=[]\n",
    "    for j in range(n):\n",
    "            a.append(int(input()))\n",
    "    pp.append(a)\n",
    "\n",
    "#forprinting\n",
    "\n",
    "for i in range(m):\n",
    "    for j in range(n):\n",
    "           print(pp[i][j],end=\" \")\n",
    "    print()"
   ]
  },
  {
   "cell_type": "code",
   "execution_count": 3,
   "id": "d1593357",
   "metadata": {},
   "outputs": [
    {
     "data": {
      "text/plain": [
       "[[1, 2, 3], [4, 5, 6], [7, 8, 9]]"
      ]
     },
     "execution_count": 3,
     "metadata": {},
     "output_type": "execute_result"
    }
   ],
   "source": [
    "pp\n",
    "\n"
   ]
  },
  {
   "cell_type": "code",
   "execution_count": 6,
   "id": "c82e47a0",
   "metadata": {},
   "outputs": [
    {
     "data": {
      "text/plain": [
       "[[1, 4, 3], [2, 5, 6], [7, 8, 9]]"
      ]
     },
     "execution_count": 6,
     "metadata": {},
     "output_type": "execute_result"
    }
   ],
   "source": [
    "k"
   ]
  },
  {
   "cell_type": "code",
   "execution_count": 12,
   "id": "40a64180",
   "metadata": {},
   "outputs": [],
   "source": [
    "c=[[0,0,0],\n",
    "  [0,0,0],\n",
    "  [0,0,0]]"
   ]
  },
  {
   "cell_type": "code",
   "execution_count": 28,
   "id": "9a6ed5a8",
   "metadata": {},
   "outputs": [
    {
     "ename": "TypeError",
     "evalue": "'int' object is not subscriptable",
     "output_type": "error",
     "traceback": [
      "\u001b[1;31m---------------------------------------------------------------------------\u001b[0m",
      "\u001b[1;31mTypeError\u001b[0m                                 Traceback (most recent call last)",
      "\u001b[1;32m<ipython-input-28-81bd6f7e60d9>\u001b[0m in \u001b[0;36m<module>\u001b[1;34m\u001b[0m\n\u001b[0;32m      1\u001b[0m \u001b[1;32mfor\u001b[0m \u001b[0mi\u001b[0m \u001b[1;32min\u001b[0m \u001b[0mrange\u001b[0m\u001b[1;33m(\u001b[0m\u001b[0mlen\u001b[0m\u001b[1;33m(\u001b[0m\u001b[0mk\u001b[0m\u001b[1;33m)\u001b[0m\u001b[1;33m)\u001b[0m\u001b[1;33m:\u001b[0m\u001b[1;33m\u001b[0m\u001b[1;33m\u001b[0m\u001b[0m\n\u001b[0;32m      2\u001b[0m     \u001b[1;32mfor\u001b[0m \u001b[0mj\u001b[0m \u001b[1;32min\u001b[0m \u001b[0mrange\u001b[0m\u001b[1;33m(\u001b[0m\u001b[0mlen\u001b[0m\u001b[1;33m(\u001b[0m\u001b[0mk\u001b[0m\u001b[1;33m)\u001b[0m\u001b[1;33m)\u001b[0m\u001b[1;33m:\u001b[0m\u001b[1;33m\u001b[0m\u001b[1;33m\u001b[0m\u001b[0m\n\u001b[1;32m----> 3\u001b[1;33m             \u001b[0mc\u001b[0m\u001b[1;33m[\u001b[0m\u001b[0mi\u001b[0m\u001b[1;33m]\u001b[0m\u001b[1;33m[\u001b[0m\u001b[0mj\u001b[0m\u001b[1;33m]\u001b[0m\u001b[1;33m=\u001b[0m\u001b[0mk\u001b[0m\u001b[1;33m[\u001b[0m\u001b[0mi\u001b[0m\u001b[1;33m]\u001b[0m\u001b[1;33m[\u001b[0m\u001b[0mj\u001b[0m\u001b[1;33m]\u001b[0m\u001b[1;33m+\u001b[0m\u001b[0mpp\u001b[0m\u001b[1;33m[\u001b[0m\u001b[0mi\u001b[0m\u001b[1;33m]\u001b[0m\u001b[1;33m[\u001b[0m\u001b[0mj\u001b[0m\u001b[1;33m]\u001b[0m\u001b[1;33m\u001b[0m\u001b[1;33m\u001b[0m\u001b[0m\n\u001b[0m\u001b[0;32m      4\u001b[0m \u001b[1;33m\u001b[0m\u001b[0m\n\u001b[0;32m      5\u001b[0m \u001b[1;32mfor\u001b[0m \u001b[0mi\u001b[0m \u001b[1;32min\u001b[0m \u001b[0mrange\u001b[0m\u001b[1;33m(\u001b[0m\u001b[0mm\u001b[0m\u001b[1;33m)\u001b[0m\u001b[1;33m:\u001b[0m\u001b[1;33m\u001b[0m\u001b[1;33m\u001b[0m\u001b[0m\n",
      "\u001b[1;31mTypeError\u001b[0m: 'int' object is not subscriptable"
     ]
    }
   ],
   "source": [
    "for i in range(m):\n",
    "    for j in range(n):\n",
    "            c[i][j]=k[i][j]+pp[i][j]\n",
    "            \n",
    "ffor i in range(m):\n",
    "    for j in range(n):\n",
    "           print(c[i][j],end=\" \")\n",
    "        "
   ]
  },
  {
   "cell_type": "code",
   "execution_count": null,
   "id": "da1a2f66",
   "metadata": {},
   "outputs": [],
   "source": [
    "2. Write a Python Program to Multiply Two Matrices?"
   ]
  },
  {
   "cell_type": "code",
   "execution_count": 90,
   "id": "b8cb888d",
   "metadata": {},
   "outputs": [
    {
     "data": {
      "text/plain": [
       "[[1, 4, 3], [2, 5, 6], [7, 8, 9]]"
      ]
     },
     "execution_count": 90,
     "metadata": {},
     "output_type": "execute_result"
    }
   ],
   "source": [
    "k\n"
   ]
  },
  {
   "cell_type": "code",
   "execution_count": 91,
   "id": "bc71efb0",
   "metadata": {},
   "outputs": [
    {
     "data": {
      "text/plain": [
       "[[1, 2, 3], [4, 5, 6], [7, 8, 9]]"
      ]
     },
     "execution_count": 91,
     "metadata": {},
     "output_type": "execute_result"
    }
   ],
   "source": [
    "pp\n"
   ]
  },
  {
   "cell_type": "code",
   "execution_count": 97,
   "id": "85cfc6b2",
   "metadata": {},
   "outputs": [],
   "source": [
    "c=[ [0,0,0],\n",
    "    [0,0,0],\n",
    "    [0,0,0]]"
   ]
  },
  {
   "cell_type": "code",
   "execution_count": 98,
   "id": "5869b087",
   "metadata": {},
   "outputs": [],
   "source": [
    "for i in range(m):\n",
    "    for j in range(n):\n",
    "        for f in range(n):\n",
    "              c[i][j]+=k[i][f]*pp[f][j]"
   ]
  },
  {
   "cell_type": "code",
   "execution_count": 99,
   "id": "1ecd0bea",
   "metadata": {},
   "outputs": [
    {
     "name": "stdout",
     "output_type": "stream",
     "text": [
      "38 46 54  \n",
      "64 77 90  \n",
      "102 126 150  \n"
     ]
    }
   ],
   "source": [
    "for i in range(m):\n",
    "    for j in range(n):\n",
    "        print(c[i][j],end=\" \")\n",
    "    print(\" \")"
   ]
  },
  {
   "cell_type": "code",
   "execution_count": null,
   "id": "d2607525",
   "metadata": {},
   "outputs": [],
   "source": [
    "3. Write a Python Program to Transpose a Matrix?"
   ]
  },
  {
   "cell_type": "code",
   "execution_count": 126,
   "id": "0d945a15",
   "metadata": {},
   "outputs": [],
   "source": [
    "matrix=[ [0,1,1],\n",
    "         [1,2,3],\n",
    "         [4,5,6] ]"
   ]
  },
  {
   "cell_type": "code",
   "execution_count": 127,
   "id": "029d05da",
   "metadata": {},
   "outputs": [],
   "source": [
    "c=[[0,0,0],\n",
    "   [0,0,0],\n",
    "   [0,0,0]]"
   ]
  },
  {
   "cell_type": "code",
   "execution_count": 128,
   "id": "39e7d2d4",
   "metadata": {},
   "outputs": [],
   "source": [
    "for i in range(len(matrix)):\n",
    "    for j in range(len(matrix)):\n",
    "        c[j][i]=matrix[i][j]"
   ]
  },
  {
   "cell_type": "code",
   "execution_count": 130,
   "id": "782dc826",
   "metadata": {},
   "outputs": [
    {
     "name": "stdout",
     "output_type": "stream",
     "text": [
      "0 1 4  \n",
      "1 2 5  \n",
      "1 3 6  \n"
     ]
    }
   ],
   "source": [
    "for i in range(len(matrix)):\n",
    "    for j in range(len(matrix)):\n",
    "        print(c[i][j],end=\" \")\n",
    "    print(\" \")"
   ]
  },
  {
   "cell_type": "code",
   "execution_count": null,
   "id": "0d47926b",
   "metadata": {},
   "outputs": [],
   "source": [
    "4. Write a Python Program to Sort Words in Alphabetic Order"
   ]
  },
  {
   "cell_type": "code",
   "execution_count": 140,
   "id": "7c197777",
   "metadata": {},
   "outputs": [
    {
     "name": "stdout",
     "output_type": "stream",
     "text": [
      "Enter a string:bag full of a mangoes\n",
      "a\n",
      "bag\n",
      "full\n",
      "mangoes\n",
      "of\n"
     ]
    }
   ],
   "source": [
    "l=input(\"Enter a string:\")\n",
    "words=l.split()\n",
    "words.sort()\n",
    "for word in words:\n",
    "    print(word)"
   ]
  },
  {
   "cell_type": "code",
   "execution_count": null,
   "id": "d66b5664",
   "metadata": {},
   "outputs": [],
   "source": [
    "5. Write a Python Program to Remove Punctuation From a String?"
   ]
  },
  {
   "cell_type": "code",
   "execution_count": 157,
   "id": "0e9772b4",
   "metadata": {},
   "outputs": [
    {
     "name": "stdout",
     "output_type": "stream",
     "text": [
      "Enter a string:i love @#$%^&India\n",
      " i love India\n"
     ]
    }
   ],
   "source": [
    "l=input(\"Enter a string:\")\n",
    "punctuations='''!%@,\\/$#&*^\"\"'''\n",
    "rem_punc=\" \"\n",
    "for i in l: \n",
    "      if i not in punctuations:\n",
    "              rem_punc=rem_punc+i\n",
    "print(rem_punc)"
   ]
  },
  {
   "cell_type": "code",
   "execution_count": null,
   "id": "c0870f2b",
   "metadata": {},
   "outputs": [],
   "source": []
  },
  {
   "cell_type": "code",
   "execution_count": null,
   "id": "1ba08405",
   "metadata": {},
   "outputs": [],
   "source": []
  }
 ],
 "metadata": {
  "kernelspec": {
   "display_name": "Python 3",
   "language": "python",
   "name": "python3"
  },
  "language_info": {
   "codemirror_mode": {
    "name": "ipython",
    "version": 3
   },
   "file_extension": ".py",
   "mimetype": "text/x-python",
   "name": "python",
   "nbconvert_exporter": "python",
   "pygments_lexer": "ipython3",
   "version": "3.8.8"
  }
 },
 "nbformat": 4,
 "nbformat_minor": 5
}
