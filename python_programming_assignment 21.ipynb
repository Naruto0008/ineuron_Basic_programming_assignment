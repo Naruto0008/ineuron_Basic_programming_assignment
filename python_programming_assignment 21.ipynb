{
 "cells": [
  {
   "cell_type": "code",
   "execution_count": null,
   "id": "ad75f518",
   "metadata": {},
   "outputs": [],
   "source": [
    "Question1\n",
    "Write a function that takes a list and a number as arguments. Add the number to the end of the list, then remove the first element of the list. The function should then return the updated list.\n",
    "Examples\n",
    "next_in_line([5, 6, 7, 8, 9], 1) ➞ [6, 7, 8, 9, 1]\n",
    "\n",
    "next_in_line([7, 6, 3, 23, 17], 10) ➞ [6, 3, 23, 17, 10]\n",
    "\n",
    "next_in_line([1, 10, 20, 42 ], 6) ➞ [10, 20, 42, 6]\n",
    "\n",
    "next_in_line([], 6) ➞ \"No list has been selected\"\n",
    "\n",
    "Question2\n",
    "Create the function that takes a list of dictionaries and returns the sum of people's budgets.\n",
    "Examples\n",
    "get_budgets([\n",
    "  { \"name\": \"John\", \"age\": 21, \"budget\": 23000 },\n",
    "  { \"name\": \"Steve\",  \"age\": 32, \"budget\": 40000 },\n",
    "  { \"name\": \"Martin\",  \"age\": 16, \"budget\": 2700 }\n",
    "]) ➞ 65700\n",
    "\n",
    "get_budgets([\n",
    "  { \"name\": \"John\",  \"age\": 21, \"budget\": 29000 },\n",
    "  { \"name\": \"Steve\",  \"age\": 32, \"budget\": 32000 },\n",
    "  { \"name\": \"Martin\",  \"age\": 16, \"budget\": 1600 }\n",
    "]) ➞ 62600\n",
    "\n",
    "Question3\n",
    "Create a function that takes a string and returns a string with its letters in alphabetical order.\n",
    "Examples\n",
    "alphabet_soup(\"hello\") ➞ \"ehllo\"\n",
    "\n",
    "alphabet_soup(\"edabit\") ➞ \"abdeit\"\n",
    "\n",
    "alphabet_soup(\"hacker\") ➞ \"acehkr\"\n",
    "\n",
    "alphabet_soup(\"geek\") ➞ \"eegk\"\n",
    "\n",
    "alphabet_soup(\"javascript\") ➞ \"aacijprstv\"\n",
    "Question4\n",
    "Suppose that you invest $10,000 for 10 years at an interest rate of 6% compounded monthly. What will be the value of your investment at the end of the 10 year period?\n",
    "Create a function that accepts the principal p, the term in years t, the interest rate r, and the number of compounding periods per year n. The function returns the value at the end of term rounded to the nearest cent.\n",
    "For the example above:\n",
    "compound_interest(10000, 10, 0.06, 12) ➞ 18193.97\n",
    "Note that the interest rate is given as a decimal and n=12 because with monthly compounding there are 12 periods per year. Compounding can also be done annually, quarterly, weekly, or daily.\n",
    "Examples\n",
    "compound_interest(100, 1, 0.05, 1) ➞ 105.0\n",
    "\n",
    "compound_interest(3500, 15, 0.1, 4) ➞ 15399.26\n",
    "\n",
    "compound_interest(100000, 20, 0.15, 365) ➞ 2007316.26\n",
    "\n",
    "Question5\n",
    "Write a function that takes a list of elements and returns only the integers.\n",
    "Examples\n",
    "return_only_integer([9, 2, \"space\", \"car\", \"lion\", 16]) ➞ [9, 2, 16]\n",
    "\n",
    "return_only_integer([\"hello\", 81, \"basketball\", 123, \"fox\"]) ➞ [81, 123]\n",
    "\n",
    "return_only_integer([10, \"121\", 56, 20, \"car\", 3, \"lion\"]) ➞ [10, 56, 20, 3]\n",
    "\n",
    "return_only_integer([\"String\",  True,  3.3,  1]) ➞ [1]\n",
    "\n",
    "\n"
   ]
  },
  {
   "cell_type": "code",
   "execution_count": null,
   "id": "c92f6064",
   "metadata": {},
   "outputs": [],
   "source": [
    "Question1\n",
    "Write a function that takes a list and a number as arguments. Add the number to the end of the list, \n",
    "then remove the first element of the list. The function should then return the updated list.\n",
    "Examples\n",
    "next_in_line([5, 6, 7, 8, 9], 1) ➞ [6, 7, 8, 9, 1]\n",
    "\n",
    "next_in_line([7, 6, 3, 23, 17], 10) ➞ [6, 3, 23, 17, 10]\n",
    "\n",
    "next_in_line([1, 10, 20, 42 ], 6) ➞ [10, 20, 42, 6]\n",
    "\n",
    "next_in_line([], 6) ➞ \"No list has been selected\"\n"
   ]
  },
  {
   "cell_type": "code",
   "execution_count": 11,
   "id": "49e6a397",
   "metadata": {},
   "outputs": [],
   "source": [
    "def func(n,p):\n",
    "    l=[]\n",
    "    x=0\n",
    "    if(len(n)>0):\n",
    "        for i in n:\n",
    "            i=i+p\n",
    "            l.append(i)\n",
    "            x=l[1:]\n",
    "            x.append(p)\n",
    "        return x\n",
    "    else:\n",
    "        print(\"No list has been selected\")\n",
    "    \n",
    "    \n"
   ]
  },
  {
   "cell_type": "code",
   "execution_count": 12,
   "id": "f4c4e07f",
   "metadata": {},
   "outputs": [
    {
     "name": "stdout",
     "output_type": "stream",
     "text": [
      "[7, 8, 9, 10, 1]\n"
     ]
    },
    {
     "data": {
      "text/plain": [
       "[7, 8, 9, 10, 1]"
      ]
     },
     "execution_count": 12,
     "metadata": {},
     "output_type": "execute_result"
    }
   ],
   "source": [
    "func([5, 6, 7, 8, 9], 1)"
   ]
  },
  {
   "cell_type": "code",
   "execution_count": 13,
   "id": "970f53f1",
   "metadata": {},
   "outputs": [
    {
     "name": "stdout",
     "output_type": "stream",
     "text": [
      "[16, 13, 33, 27, 10]\n"
     ]
    },
    {
     "data": {
      "text/plain": [
       "[16, 13, 33, 27, 10]"
      ]
     },
     "execution_count": 13,
     "metadata": {},
     "output_type": "execute_result"
    }
   ],
   "source": [
    "func([7, 6, 3, 23, 17], 10)"
   ]
  },
  {
   "cell_type": "code",
   "execution_count": 14,
   "id": "774e2a16",
   "metadata": {},
   "outputs": [
    {
     "name": "stdout",
     "output_type": "stream",
     "text": [
      "[16, 26, 48, 6]\n"
     ]
    },
    {
     "data": {
      "text/plain": [
       "[16, 26, 48, 6]"
      ]
     },
     "execution_count": 14,
     "metadata": {},
     "output_type": "execute_result"
    }
   ],
   "source": [
    "func([1, 10, 20, 42 ], 6) "
   ]
  },
  {
   "cell_type": "code",
   "execution_count": 15,
   "id": "40f8fe47",
   "metadata": {},
   "outputs": [
    {
     "name": "stdout",
     "output_type": "stream",
     "text": [
      "No list has been selected\n"
     ]
    }
   ],
   "source": [
    "func([], 6)"
   ]
  },
  {
   "cell_type": "code",
   "execution_count": null,
   "id": "f20d38bb",
   "metadata": {},
   "outputs": [],
   "source": [
    "Question2\n",
    "Create the function that takes a list of dictionaries and returns the sum of people's budgets.\n",
    "Examples\n",
    "get_budgets([\n",
    "  { \"name\": \"John\", \"age\": 21, \"budget\": 23000 },\n",
    "  { \"name\": \"Steve\",  \"age\": 32, \"budget\": 40000 },\n",
    "  { \"name\": \"Martin\",  \"age\": 16, \"budget\": 2700 }\n",
    "]) ➞ 65700\n",
    "\n",
    "get_budgets([\n",
    "  { \"name\": \"John\",  \"age\": 21, \"budget\": 29000 },\n",
    "  { \"name\": \"Steve\",  \"age\": 32, \"budget\": 32000 },\n",
    "  { \"name\": \"Martin\",  \"age\": 16, \"budget\": 1600 }\n",
    "]) ➞ 62600"
   ]
  },
  {
   "cell_type": "code",
   "execution_count": 73,
   "id": "d50f7094",
   "metadata": {},
   "outputs": [],
   "source": [
    "def get_budgets(n):\n",
    "    l=[]\n",
    "    sum=0\n",
    "    for i in n:\n",
    "        for k,v in i.items():\n",
    "            if(k=='budget'):\n",
    "                sum=sum+v\n",
    "    return sum"
   ]
  },
  {
   "cell_type": "code",
   "execution_count": 74,
   "id": "f64b48e1",
   "metadata": {},
   "outputs": [
    {
     "data": {
      "text/plain": [
       "65700"
      ]
     },
     "execution_count": 74,
     "metadata": {},
     "output_type": "execute_result"
    }
   ],
   "source": [
    "get_budgets([\n",
    "  { \"name\": \"John\", \"age\": 21, \"budget\": 23000 },\n",
    "  { \"name\": \"Steve\",  \"age\": 32, \"budget\": 40000 },\n",
    "  { \"name\": \"Martin\",  \"age\": 16, \"budget\": 2700 }\n",
    "])"
   ]
  },
  {
   "cell_type": "code",
   "execution_count": 76,
   "id": "fcccbfd1",
   "metadata": {},
   "outputs": [
    {
     "data": {
      "text/plain": [
       "62600"
      ]
     },
     "execution_count": 76,
     "metadata": {},
     "output_type": "execute_result"
    }
   ],
   "source": [
    "get_budgets([\n",
    "  { \"name\": \"John\",  \"age\": 21, \"budget\": 29000 },\n",
    "  { \"name\": \"Steve\",  \"age\": 32, \"budget\": 32000 },\n",
    "  { \"name\": \"Martin\",  \"age\": 16, \"budget\": 1600 }\n",
    "]) "
   ]
  },
  {
   "cell_type": "code",
   "execution_count": null,
   "id": "fb728057",
   "metadata": {},
   "outputs": [],
   "source": [
    "Question3\n",
    "Create a function that takes a string and returns a string with its letters in alphabetical order.\n",
    "Examples\n",
    "alphabet_soup(\"hello\") ➞ \"ehllo\"\n",
    "\n",
    "alphabet_soup(\"edabit\") ➞ \"abdeit\"\n",
    "\n",
    "alphabet_soup(\"hacker\") ➞ \"acehkr\"\n",
    "\n",
    "alphabet_soup(\"geek\") ➞ \"eegk\"\n",
    "\n",
    "alphabet_soup(\"javascript\") ➞ \"aacijprstv\""
   ]
  },
  {
   "cell_type": "code",
   "execution_count": 94,
   "id": "6bdaa18f",
   "metadata": {},
   "outputs": [],
   "source": [
    "def alphabet_soup(n):\n",
    "    x=sorted(n)\n",
    "    return (''.join(x))"
   ]
  },
  {
   "cell_type": "code",
   "execution_count": 95,
   "id": "f8b06202",
   "metadata": {},
   "outputs": [
    {
     "data": {
      "text/plain": [
       "'ehllo'"
      ]
     },
     "execution_count": 95,
     "metadata": {},
     "output_type": "execute_result"
    }
   ],
   "source": [
    "alphabet_soup(\"hello\")"
   ]
  },
  {
   "cell_type": "code",
   "execution_count": 96,
   "id": "e1af3c18",
   "metadata": {},
   "outputs": [
    {
     "data": {
      "text/plain": [
       "'abdeit'"
      ]
     },
     "execution_count": 96,
     "metadata": {},
     "output_type": "execute_result"
    }
   ],
   "source": [
    "alphabet_soup(\"edabit\")"
   ]
  },
  {
   "cell_type": "code",
   "execution_count": 97,
   "id": "32e14be3",
   "metadata": {},
   "outputs": [
    {
     "data": {
      "text/plain": [
       "'eegk'"
      ]
     },
     "execution_count": 97,
     "metadata": {},
     "output_type": "execute_result"
    }
   ],
   "source": [
    "alphabet_soup(\"geek\")"
   ]
  },
  {
   "cell_type": "code",
   "execution_count": 98,
   "id": "290ea796",
   "metadata": {},
   "outputs": [
    {
     "data": {
      "text/plain": [
       "'aacijprstv'"
      ]
     },
     "execution_count": 98,
     "metadata": {},
     "output_type": "execute_result"
    }
   ],
   "source": [
    "alphabet_soup(\"javascript\")"
   ]
  },
  {
   "cell_type": "code",
   "execution_count": null,
   "id": "0127c932",
   "metadata": {},
   "outputs": [],
   "source": [
    "Question4\n",
    "Suppose that you invest $10,000 for 10 years at an interest rate of 6% compounded monthly. \n",
    "What will be the value of your investment at the end of the 10 year period?\n",
    "Create a function that accepts the principal p, the term in years t, the interest rate r, and \n",
    "the number of compounding periods per year n. The function returns the value at the end of term rounded to the nearest cent.\n",
    "For the example above:\n",
    "compound_interest(10000, 10, 0.06, 12) ➞ 18193.97\n",
    "Note that the interest rate is given as a decimal and n=12 because with monthly compounding there are 12 periods per year. \n",
    "Compounding can also be done annually, quarterly, weekly, or daily.\n",
    "Examples\n",
    "compound_interest(100, 1, 0.05, 1) ➞ 105.0\n",
    "\n",
    "compound_interest(3500, 15, 0.1, 4) ➞ 15399.26\n",
    "\n",
    "compound_interest(100000, 20, 0.15, 365) ➞ 2007316.26\n"
   ]
  },
  {
   "cell_type": "code",
   "execution_count": 115,
   "id": "bc808272",
   "metadata": {},
   "outputs": [],
   "source": [
    "def compound_interest(p,t,r,n):\n",
    "    i= p *(1 + (r/n)) ** (t * n)\n",
    "    return i"
   ]
  },
  {
   "cell_type": "code",
   "execution_count": 116,
   "id": "886ecd82",
   "metadata": {},
   "outputs": [
    {
     "data": {
      "text/plain": [
       "15399.264120852586"
      ]
     },
     "execution_count": 116,
     "metadata": {},
     "output_type": "execute_result"
    }
   ],
   "source": [
    "compound_interest(3500, 15, 0.1, 4)"
   ]
  },
  {
   "cell_type": "code",
   "execution_count": 117,
   "id": "fa51cbc3",
   "metadata": {},
   "outputs": [
    {
     "data": {
      "text/plain": [
       "105.0"
      ]
     },
     "execution_count": 117,
     "metadata": {},
     "output_type": "execute_result"
    }
   ],
   "source": [
    "compound_interest(100, 1, 0.05, 1)"
   ]
  },
  {
   "cell_type": "code",
   "execution_count": 118,
   "id": "061616fb",
   "metadata": {},
   "outputs": [
    {
     "data": {
      "text/plain": [
       "2007316.2632325366"
      ]
     },
     "execution_count": 118,
     "metadata": {},
     "output_type": "execute_result"
    }
   ],
   "source": [
    "compound_interest(100000, 20, 0.15, 365)"
   ]
  },
  {
   "cell_type": "code",
   "execution_count": null,
   "id": "5785609d",
   "metadata": {},
   "outputs": [],
   "source": [
    "Question5\n",
    "Write a function that takes a list of elements and returns only the integers.\n",
    "Examples\n",
    "return_only_integer([9, 2, \"space\", \"car\", \"lion\", 16]) ➞ [9, 2, 16]\n",
    "\n",
    "return_only_integer([\"hello\", 81, \"basketball\", 123, \"fox\"]) ➞ [81, 123]\n",
    "\n",
    "return_only_integer([10, \"121\", 56, 20, \"car\", 3, \"lion\"]) ➞ [10, 56, 20, 3]\n",
    "\n",
    "return_only_integer([\"String\",  True,  3.3,  1]) ➞ [1]\n"
   ]
  },
  {
   "cell_type": "code",
   "execution_count": 119,
   "id": "f4300e7d",
   "metadata": {},
   "outputs": [],
   "source": [
    "def return_only_integer(lst):\n",
    "    int_list = []\n",
    "    for i in lst:\n",
    "        if type(i) == int:\n",
    "            int_list.append(i)\n",
    "    return int_list"
   ]
  },
  {
   "cell_type": "code",
   "execution_count": 120,
   "id": "eedfb0fe",
   "metadata": {},
   "outputs": [
    {
     "data": {
      "text/plain": [
       "[9, 2, 16]"
      ]
     },
     "execution_count": 120,
     "metadata": {},
     "output_type": "execute_result"
    }
   ],
   "source": [
    "return_only_integer([9, 2, \"space\", \"car\", \"lion\", 16])"
   ]
  },
  {
   "cell_type": "code",
   "execution_count": null,
   "id": "157cb6e0",
   "metadata": {},
   "outputs": [],
   "source": []
  },
  {
   "cell_type": "code",
   "execution_count": null,
   "id": "1026fbb5",
   "metadata": {},
   "outputs": [],
   "source": []
  },
  {
   "cell_type": "code",
   "execution_count": null,
   "id": "7616b27b",
   "metadata": {},
   "outputs": [],
   "source": []
  }
 ],
 "metadata": {
  "kernelspec": {
   "display_name": "Python 3",
   "language": "python",
   "name": "python3"
  },
  "language_info": {
   "codemirror_mode": {
    "name": "ipython",
    "version": 3
   },
   "file_extension": ".py",
   "mimetype": "text/x-python",
   "name": "python",
   "nbconvert_exporter": "python",
   "pygments_lexer": "ipython3",
   "version": "3.8.8"
  }
 },
 "nbformat": 4,
 "nbformat_minor": 5
}
