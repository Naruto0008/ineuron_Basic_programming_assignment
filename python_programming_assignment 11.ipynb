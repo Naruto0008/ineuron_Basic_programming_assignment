{
 "cells": [
  {
   "cell_type": "code",
   "execution_count": null,
   "id": "c17ae633",
   "metadata": {},
   "outputs": [],
   "source": [
    "1. Write a Python program to find words which are greater than given length k?\n",
    "2. Write a Python program for removing i-th character from a string?\n",
    "3. Write a Python program to split and join a string?\n",
    "4. Write a Python to check if a given string is binary string or not?\n",
    "5. Write a Python program to find uncommon words from two Strings?\n",
    "6. Write a Python to find all duplicate characters in string?\n",
    "7. Write a Python Program to check if a string contains any special character?"
   ]
  },
  {
   "cell_type": "code",
   "execution_count": null,
   "id": "1db28b56",
   "metadata": {},
   "outputs": [],
   "source": [
    "1. Write a Python program to find words which are greater than given length k?"
   ]
  },
  {
   "cell_type": "code",
   "execution_count": null,
   "id": "27f57c7a",
   "metadata": {},
   "outputs": [],
   "source": [
    "l=[]\n",
    "n=int(input())\n",
    "for i in range(n):\n",
    "    l.append(input())\n",
    "print(l)\n",
    "k=int(input())\n",
    "for i in l:\n",
    "    if(len(str(i))<k):\n",
    "        print(i)\n"
   ]
  },
  {
   "cell_type": "code",
   "execution_count": null,
   "id": "e1f3ad59",
   "metadata": {},
   "outputs": [],
   "source": [
    "2. Write a Python program for removing i-th character from a string?"
   ]
  },
  {
   "cell_type": "code",
   "execution_count": 10,
   "id": "5385a58c",
   "metadata": {},
   "outputs": [
    {
     "name": "stdout",
     "output_type": "stream",
     "text": [
      "kalyan\n",
      "Enter the character to be removed : 2\n",
      "ka yan\n"
     ]
    }
   ],
   "source": [
    "n=(input())\n",
    "d=int(input(\"Enter the character to be removed : \"))\n",
    "l=len((str(n)))\n",
    "for i in range(len(str(n))):\n",
    "    if (d==(i)):\n",
    "           n= n.replace(n[i],\" \",1)\n",
    "print(n)"
   ]
  },
  {
   "cell_type": "code",
   "execution_count": null,
   "id": "2da3f3ac",
   "metadata": {},
   "outputs": [],
   "source": [
    "3. Write a Python program to split and join a string"
   ]
  },
  {
   "cell_type": "code",
   "execution_count": 14,
   "id": "926425f3",
   "metadata": {},
   "outputs": [
    {
     "name": "stdout",
     "output_type": "stream",
     "text": [
      "Enter a string : Tsunade is a strong lady\n",
      "Splitting a string ['Tsunade', 'is', 'a', 'strong', 'lady']\n",
      "after joining Tsunade-is-a-strong-lady\n"
     ]
    }
   ],
   "source": [
    "n=input(\"Enter a string : \")\n",
    "\n",
    "n=n.split(\" \")\n",
    "print(\"Splitting a string\",n)\n",
    "\n",
    "n2=\"-\".join(n)\n",
    "print(\"after joining\",n2)"
   ]
  },
  {
   "cell_type": "code",
   "execution_count": null,
   "id": "57c1c0f6",
   "metadata": {},
   "outputs": [],
   "source": [
    "4. Write a Python to check if a given string is binary string or not?"
   ]
  },
  {
   "cell_type": "code",
   "execution_count": 77,
   "id": "313723e3",
   "metadata": {},
   "outputs": [
    {
     "name": "stdout",
     "output_type": "stream",
     "text": [
      "Enter a string : kal\n",
      "not binary\n"
     ]
    }
   ],
   "source": [
    "def isbinary(n):\n",
    "    binary=\"01\"\n",
    "    for i in range(len(n)):\n",
    "        if str[i] not in binary:\n",
    "            print(\"not binary\")\n",
    "            break\n",
    "    else:\n",
    "        print(\"binary\")\n",
    "n=input(\"Enter a string : \")\n",
    "isbinary(n)"
   ]
  },
  {
   "cell_type": "code",
   "execution_count": 74,
   "id": "2db14618",
   "metadata": {},
   "outputs": [],
   "source": [
    "binary=\"01\""
   ]
  },
  {
   "cell_type": "code",
   "execution_count": 75,
   "id": "3bc20d48",
   "metadata": {},
   "outputs": [
    {
     "data": {
      "text/plain": [
       "str"
      ]
     },
     "execution_count": 75,
     "metadata": {},
     "output_type": "execute_result"
    }
   ],
   "source": [
    "type(binary)"
   ]
  },
  {
   "cell_type": "code",
   "execution_count": null,
   "id": "abb00011",
   "metadata": {},
   "outputs": [],
   "source": [
    "5. Write a Python program to find uncommon words from two Strings?"
   ]
  },
  {
   "cell_type": "code",
   "execution_count": 83,
   "id": "aab2bc0d",
   "metadata": {},
   "outputs": [
    {
     "name": "stdout",
     "output_type": "stream",
     "text": [
      "naruto\n",
      "is\n",
      "\n",
      "Pumba\n",
      "was\n",
      "alive,\n"
     ]
    }
   ],
   "source": [
    "s=\"naruto is a good story \"\n",
    "t=\"Pumba was alive, a good story\"\n",
    "s=s.split(\" \")\n",
    "t=t.split(\" \")\n",
    "for i in s:\n",
    "    if i not in t:\n",
    "         print(i)\n",
    "    else:\n",
    "         continue\n",
    "for j in t:\n",
    "    if j not in s:\n",
    "        print(j)\n",
    "    else:\n",
    "        continue"
   ]
  },
  {
   "cell_type": "code",
   "execution_count": null,
   "id": "f83ab550",
   "metadata": {},
   "outputs": [],
   "source": [
    "6. Write a Python to find all duplicate characters in string?"
   ]
  },
  {
   "cell_type": "code",
   "execution_count": 92,
   "id": "a833ac95",
   "metadata": {},
   "outputs": [
    {
     "name": "stdout",
     "output_type": "stream",
     "text": [
      "Enter a string: pokemon is real\n"
     ]
    }
   ],
   "source": [
    "n=input(\"Enter a string: \")\n",
    "duplicate=[]\n",
    "count=0\n",
    "for i in n:\n",
    "    if n.count(i)>1:\n",
    "        if i not in duplicate:\n",
    "            duplicate.append(i)\n",
    "    "
   ]
  },
  {
   "cell_type": "code",
   "execution_count": 93,
   "id": "457665a5",
   "metadata": {},
   "outputs": [
    {
     "data": {
      "text/plain": [
       "['o', 'e', ' ']"
      ]
     },
     "execution_count": 93,
     "metadata": {},
     "output_type": "execute_result"
    }
   ],
   "source": [
    "duplicate"
   ]
  },
  {
   "cell_type": "code",
   "execution_count": 85,
   "id": "4f7e5c1a",
   "metadata": {},
   "outputs": [
    {
     "data": {
      "text/plain": [
       "14"
      ]
     },
     "execution_count": 85,
     "metadata": {},
     "output_type": "execute_result"
    }
   ],
   "source": [
    "len(n)"
   ]
  },
  {
   "cell_type": "code",
   "execution_count": null,
   "id": "53585bac",
   "metadata": {},
   "outputs": [],
   "source": [
    "7. Write a Python Program to check if a string contains any special character?"
   ]
  },
  {
   "cell_type": "code",
   "execution_count": 97,
   "id": "9e11d453",
   "metadata": {},
   "outputs": [
    {
     "name": "stdout",
     "output_type": "stream",
     "text": [
      "kalyan\n",
      "nope\n",
      "nope\n",
      "nope\n",
      "nope\n",
      "nope\n",
      "nope\n"
     ]
    }
   ],
   "source": [
    "special_character=\"$@#%^&\"\n",
    "str=input()\n",
    "for i in str:\n",
    "    if i not in special_character:\n",
    "        print(\"nope\")\n",
    "        continue\n",
    "    else:\n",
    "        print(\"available\")\n",
    "        break\n",
    "        \n",
    "        \n",
    "        "
   ]
  },
  {
   "cell_type": "code",
   "execution_count": null,
   "id": "54f4cb2c",
   "metadata": {},
   "outputs": [],
   "source": []
  },
  {
   "cell_type": "code",
   "execution_count": null,
   "id": "9aa64f19",
   "metadata": {},
   "outputs": [],
   "source": []
  }
 ],
 "metadata": {
  "kernelspec": {
   "display_name": "Python 3",
   "language": "python",
   "name": "python3"
  },
  "language_info": {
   "codemirror_mode": {
    "name": "ipython",
    "version": 3
   },
   "file_extension": ".py",
   "mimetype": "text/x-python",
   "name": "python",
   "nbconvert_exporter": "python",
   "pygments_lexer": "ipython3",
   "version": "3.8.8"
  }
 },
 "nbformat": 4,
 "nbformat_minor": 5
}
