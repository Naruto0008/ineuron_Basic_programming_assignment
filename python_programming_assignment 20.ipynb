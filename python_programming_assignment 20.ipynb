{
 "cells": [
  {
   "cell_type": "code",
   "execution_count": null,
   "id": "788669df",
   "metadata": {},
   "outputs": [],
   "source": [
    "Question1\n",
    "Create a function that takes a list of strings and integers, and filters out the list so that it returns a list of integers only.\n",
    "Examples\n",
    "filter_list([1, 2, 3, \"a\", \"b\", 4]) ➞ [1, 2, 3, 4]\n",
    "\n",
    "filter_list([\"A\", 0, \"Edabit\", 1729, \"Python\", \"1729\"]) ➞ [0, 1729]\n",
    "\n",
    "filter_list([\"Nothing\", \"here\"]) ➞ []\n",
    "\n",
    "Question2\n",
    "Given a list of numbers, create a function which returns the list but with each element's index in the list added to itself. This means you add 0 to the number at index 0, add 1 to the number at index 1, etc...\n",
    "Examples\n",
    "add_indexes([0, 0, 0, 0, 0]) ➞ [0, 1, 2, 3, 4]\n",
    "\n",
    "add_indexes([1, 2, 3, 4, 5]) ➞ [1, 3, 5, 7, 9]\n",
    "\n",
    "add_indexes([5, 4, 3, 2, 1]) ➞ [5, 5, 5, 5, 5]\n",
    "\n",
    "Question3\n",
    "Create a function that takes the height and radius of a cone as arguments and returns the volume of the cone rounded to the nearest hundredth. See the resources tab for the formula.\n",
    "\n",
    "Examples\n",
    "cone_volume(3, 2) ➞ 12.57\n",
    "\n",
    "cone_volume(15, 6) ➞ 565.49\n",
    "\n",
    "cone_volume(18, 0) ➞ 0\n",
    "\n",
    "Question4\n",
    "This Triangular Number Sequence is generated from a pattern of dots that form a triangle. The first 5 numbers of the sequence, or dots, are: \n",
    "1, 3, 6, 10, 15\n",
    "This means that the first triangle has just one dot, the second one has three dots, the third one has 6 dots and so on.\n",
    "Write a function that gives the number of dots with its corresponding triangle number of the sequence.\n",
    "Examples\n",
    "triangle(1) ➞ 1\n",
    "\n",
    "triangle(6) ➞ 21\n",
    "\n",
    "triangle(215) ➞ 23220\n",
    "\n",
    "Question5\n",
    "Create a function that takes a list of numbers between 1 and 10 (excluding one number) and returns the missing number.\n",
    "Examples\n",
    "missing_num([1, 2, 3, 4, 6, 7, 8, 9, 10]) ➞ 5\n",
    "\n",
    "missing_num([7, 2, 3, 6, 5, 9, 1, 4, 8]) ➞ 10\n",
    "\n",
    "missing_num([10, 5, 1, 2, 4, 6, 8, 3, 9]) ➞ 7\n",
    "\n",
    "\n"
   ]
  },
  {
   "cell_type": "code",
   "execution_count": null,
   "id": "cede74b0",
   "metadata": {},
   "outputs": [],
   "source": [
    "Question1\n",
    "Create a function that takes a list of strings and integers, and filters out the list so that it returns a list of integers \n",
    "only.\n",
    "Examples\n",
    "filter_list([1, 2, 3, \"a\", \"b\", 4]) ➞ [1, 2, 3, 4]\n",
    "\n",
    "filter_list([\"A\", 0, \"Edabit\", 1729, \"Python\", \"1729\"]) ➞ [0, 1729]\n",
    "\n",
    "filter_list([\"Nothing\", \"here\"]) ➞ []\n"
   ]
  },
  {
   "cell_type": "code",
   "execution_count": 2,
   "id": "cd449be0",
   "metadata": {},
   "outputs": [
    {
     "data": {
      "text/plain": [
       "[1, 2, 3, 4]"
      ]
     },
     "execution_count": 2,
     "metadata": {},
     "output_type": "execute_result"
    }
   ],
   "source": [
    "def func(a):\n",
    "    l=[]\n",
    "    for i in a:\n",
    "        if(type(i)==int):\n",
    "            l.append(i)\n",
    "        else:\n",
    "            continue\n",
    "    return l\n",
    "a=[]\n",
    "func([1, 2, 3, \"a\", \"b\", 4])"
   ]
  },
  {
   "cell_type": "code",
   "execution_count": 3,
   "id": "7306961a",
   "metadata": {},
   "outputs": [
    {
     "data": {
      "text/plain": [
       "[0, 1729]"
      ]
     },
     "execution_count": 3,
     "metadata": {},
     "output_type": "execute_result"
    }
   ],
   "source": [
    "func(([\"A\", 0, \"Edabit\", 1729, \"Python\", \"1729\"]))"
   ]
  },
  {
   "cell_type": "code",
   "execution_count": 4,
   "id": "b2ef558d",
   "metadata": {},
   "outputs": [
    {
     "data": {
      "text/plain": [
       "[]"
      ]
     },
     "execution_count": 4,
     "metadata": {},
     "output_type": "execute_result"
    }
   ],
   "source": [
    "func(([\"Nothing\", \"here\"]))"
   ]
  },
  {
   "cell_type": "code",
   "execution_count": null,
   "id": "b3a09dcb",
   "metadata": {},
   "outputs": [],
   "source": [
    "Question2\n",
    "Given a list of numbers, create a function which returns the list but with each element's index in the list added to itself. \n",
    "This means you add 0 to the number at index 0, add 1 to the number at index 1, etc...\n",
    "Examples\n",
    "add_indexes([0, 0, 0, 0, 0]) ➞ [0, 1, 2, 3, 4]\n",
    "\n",
    "add_indexes([1, 2, 3, 4, 5]) ➞ [1, 3, 5, 7, 9]\n",
    "\n",
    "add_indexes([5, 4, 3, 2, 1]) ➞ [5, 5, 5, 5, 5]\n"
   ]
  },
  {
   "cell_type": "code",
   "execution_count": 13,
   "id": "4e988652",
   "metadata": {},
   "outputs": [
    {
     "data": {
      "text/plain": [
       "[0, 1, 2, 3, 4]"
      ]
     },
     "execution_count": 13,
     "metadata": {},
     "output_type": "execute_result"
    }
   ],
   "source": [
    "def add_indexes(n):\n",
    "    l=[]\n",
    "    for i in range(0,len(n)):\n",
    "        n[i]=i+n[i]\n",
    "        l.append(n[i])\n",
    "    return l\n",
    "n=[]\n",
    "add_indexes([0, 0, 0, 0, 0])"
   ]
  },
  {
   "cell_type": "code",
   "execution_count": 14,
   "id": "e0d06202",
   "metadata": {},
   "outputs": [
    {
     "data": {
      "text/plain": [
       "[1, 3, 5, 7, 9]"
      ]
     },
     "execution_count": 14,
     "metadata": {},
     "output_type": "execute_result"
    }
   ],
   "source": [
    "add_indexes([1, 2, 3, 4, 5])\n"
   ]
  },
  {
   "cell_type": "code",
   "execution_count": 15,
   "id": "f5fc808c",
   "metadata": {},
   "outputs": [
    {
     "data": {
      "text/plain": [
       "[5, 5, 5, 5, 5]"
      ]
     },
     "execution_count": 15,
     "metadata": {},
     "output_type": "execute_result"
    }
   ],
   "source": [
    "add_indexes([5, 4, 3, 2, 1])"
   ]
  },
  {
   "cell_type": "code",
   "execution_count": null,
   "id": "e87a6803",
   "metadata": {},
   "outputs": [],
   "source": [
    "Question3\n",
    "Create a function that takes the height and radius of a cone as arguments and \n",
    "returns the volume of the cone rounded to the nearest hundredth. See the resources tab for the formula.\n",
    "\n",
    "Examples\n",
    "cone_volume(3, 2) ➞ 12.57\n",
    "\n",
    "cone_volume(15, 6) ➞ 565.49\n",
    "\n",
    "cone_volume(18, 0) ➞ 0\n"
   ]
  },
  {
   "cell_type": "code",
   "execution_count": 22,
   "id": "427f42e2",
   "metadata": {},
   "outputs": [
    {
     "name": "stdout",
     "output_type": "stream",
     "text": [
      "Enter height : 15\n",
      "Enter radius : 6\n"
     ]
    },
    {
     "data": {
      "text/plain": [
       "565.4861999999999"
      ]
     },
     "execution_count": 22,
     "metadata": {},
     "output_type": "execute_result"
    }
   ],
   "source": [
    "def func(h,r):\n",
    "    pi=3.14159\n",
    "    vol=pi*(r**2)*h/3\n",
    "    return vol\n",
    "h=int(input(\"Enter height : \"))\n",
    "r=int(input(\"Enter radius : \"))\n",
    "func(h,r)"
   ]
  },
  {
   "cell_type": "code",
   "execution_count": null,
   "id": "652ea895",
   "metadata": {},
   "outputs": [],
   "source": [
    "Question4\n",
    "This Triangular Number Sequence is generated from a pattern of dots that form a triangle. \n",
    "The first 5 numbers of the sequence, or dots, are: \n",
    "1, 3, 6, 10, 15\n",
    "This means that the first triangle has just one dot, the second one has three dots, the third one has 6 dots and so on.\n",
    "Write a function that gives the number of dots with its corresponding triangle number of the sequence.\n",
    "Examples\n",
    "triangle(1) ➞ 1\n",
    "\n",
    "triangle(6) ➞ 21\n",
    "\n",
    "triangle(215) ➞ 23220\n"
   ]
  },
  {
   "cell_type": "code",
   "execution_count": 31,
   "id": "b71a3b09",
   "metadata": {},
   "outputs": [
    {
     "name": "stdout",
     "output_type": "stream",
     "text": [
      "enter an integer : 215\n"
     ]
    },
    {
     "data": {
      "text/plain": [
       "23220"
      ]
     },
     "execution_count": 31,
     "metadata": {},
     "output_type": "execute_result"
    }
   ],
   "source": [
    "def triangle(n):\n",
    "            if(n==0):\n",
    "                return 0\n",
    "            elif(n==1):\n",
    "                return 1\n",
    "            else:\n",
    "                return (n+triangle(n-1))\n",
    "n=int(input(\"enter an integer : \"))\n",
    "triangle(n)"
   ]
  },
  {
   "cell_type": "code",
   "execution_count": null,
   "id": "6ea873f6",
   "metadata": {},
   "outputs": [],
   "source": [
    "Question5\n",
    "Create a function that takes a list of numbers between 1 and 10 (excluding one number) and returns the missing number.\n",
    "Examples\n",
    "missing_num([1, 2, 3, 4, 6, 7, 8, 9, 10]) ➞ 5\n",
    "\n",
    "missing_num([7, 2, 3, 6, 5, 9, 1, 4, 8]) ➞ 10\n",
    "\n",
    "missing_num([10, 5, 1, 2, 4, 6, 8, 3, 9]) ➞ 7\n",
    "\n",
    "\n"
   ]
  },
  {
   "cell_type": "code",
   "execution_count": 34,
   "id": "d40aea2e",
   "metadata": {},
   "outputs": [
    {
     "name": "stdout",
     "output_type": "stream",
     "text": [
      "10\n"
     ]
    }
   ],
   "source": [
    "def missing_numbers(n):\n",
    "    tot=sum([x for x in range(11)])\n",
    "    sum_lst=sum(n)\n",
    "    return tot-sum_lst\n",
    "print(missing_numbers([1,2,3,4,5,6,7,8,9]))"
   ]
  },
  {
   "cell_type": "code",
   "execution_count": 35,
   "id": "1ca76ce5",
   "metadata": {},
   "outputs": [
    {
     "data": {
      "text/plain": [
       "7"
      ]
     },
     "execution_count": 35,
     "metadata": {},
     "output_type": "execute_result"
    }
   ],
   "source": [
    "missing_numbers([10, 5, 1, 2, 4, 6, 8, 3, 9])"
   ]
  },
  {
   "cell_type": "code",
   "execution_count": 37,
   "id": "d4ede751",
   "metadata": {},
   "outputs": [
    {
     "data": {
      "text/plain": [
       "10"
      ]
     },
     "execution_count": 37,
     "metadata": {},
     "output_type": "execute_result"
    }
   ],
   "source": [
    "missing_numbers([7, 2, 3, 6, 5, 9, 1, 4, 8])"
   ]
  },
  {
   "cell_type": "code",
   "execution_count": 38,
   "id": "db94a8c1",
   "metadata": {},
   "outputs": [
    {
     "data": {
      "text/plain": [
       "5"
      ]
     },
     "execution_count": 38,
     "metadata": {},
     "output_type": "execute_result"
    }
   ],
   "source": [
    "missing_numbers([1, 2, 3, 4, 6, 7, 8, 9, 10])"
   ]
  },
  {
   "cell_type": "code",
   "execution_count": null,
   "id": "ef3760c3",
   "metadata": {},
   "outputs": [],
   "source": []
  }
 ],
 "metadata": {
  "kernelspec": {
   "display_name": "Python 3",
   "language": "python",
   "name": "python3"
  },
  "language_info": {
   "codemirror_mode": {
    "name": "ipython",
    "version": 3
   },
   "file_extension": ".py",
   "mimetype": "text/x-python",
   "name": "python",
   "nbconvert_exporter": "python",
   "pygments_lexer": "ipython3",
   "version": "3.8.8"
  }
 },
 "nbformat": 4,
 "nbformat_minor": 5
}
